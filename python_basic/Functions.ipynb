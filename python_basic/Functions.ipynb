{
 "cells": [
  {
   "cell_type": "markdown",
   "metadata": {},
   "source": [
    "# Syntax\n",
    "![](https://gitee.com/faerl/upic/raw/master/4kQwjP.png)"
   ]
  },
  {
   "cell_type": "markdown",
   "metadata": {},
   "source": [
    "# Create a Function\n",
    "* To define a Python function, use def keyword."
   ]
  },
  {
   "cell_type": "code",
   "execution_count": 1,
   "metadata": {},
   "outputs": [
    {
     "name": "stdout",
     "output_type": "stream",
     "text": [
      "Hello, World!\n"
     ]
    }
   ],
   "source": [
    "def hello():\n",
    "    print('Hello, World!')\n",
    "  \n",
    "hello()     # Hello, World!"
   ]
  },
  {
   "cell_type": "markdown",
   "metadata": {},
   "source": [
    "# Pass Arguments"
   ]
  },
  {
   "cell_type": "code",
   "execution_count": 3,
   "metadata": {},
   "outputs": [
    {
     "name": "stdout",
     "output_type": "stream",
     "text": [
      "Hello, Bob\n",
      "Hello, Sam\n"
     ]
    }
   ],
   "source": [
    "def hello(name):\n",
    "    print('Hello,', name)\n",
    "\n",
    "hello('Bob')    # Hello, Bob\n",
    "hello('Sam')    # Hello, Sam"
   ]
  },
  {
   "cell_type": "code",
   "execution_count": 4,
   "metadata": {},
   "outputs": [
    {
     "name": "stdout",
     "output_type": "stream",
     "text": [
      "Bob is a developer\n"
     ]
    }
   ],
   "source": [
    "def func(name, job):\n",
    "    print(name, 'is a', job)\n",
    "\n",
    "func('Bob', 'developer')    # Bob is a developer"
   ]
  },
  {
   "cell_type": "markdown",
   "metadata": {},
   "source": [
    "# Types of Arguments\n",
    "* Positional Arguments\n",
    "* Keyword Arguments\n",
    "* Default Arguments\n",
    "* Variable Length Positional Arguments (*args)\n",
    "* Variable Length Keyword Arguments (**kwargs)"
   ]
  },
  {
   "cell_type": "markdown",
   "metadata": {},
   "source": [
    "# Positional Arguments\n",
    "* The most common are positional arguments, whose values are copied to their corresponding parameters in order."
   ]
  },
  {
   "cell_type": "code",
   "execution_count": 5,
   "metadata": {},
   "outputs": [
    {
     "name": "stdout",
     "output_type": "stream",
     "text": [
      "Bob is a developer\n"
     ]
    }
   ],
   "source": [
    "def func(name, job):\n",
    "    print(name, 'is a', job)\n",
    "\n",
    "func('Bob', 'developer')    # Bob is a developer"
   ]
  },
  {
   "cell_type": "markdown",
   "metadata": {},
   "source": [
    "# Keyword Arguments\n",
    "* arguments are matched by name, not by position.\n",
    "* It is possible to combine positional and keyword arguments in a single call. If you do so, specify the positional arguments before keyword arguments."
   ]
  },
  {
   "cell_type": "code",
   "execution_count": 7,
   "metadata": {},
   "outputs": [
    {
     "name": "stdout",
     "output_type": "stream",
     "text": [
      "Bob is a developer\n",
      "Bob is a developer\n"
     ]
    }
   ],
   "source": [
    "# Example: Keyword arguments can be put in any order\n",
    "\n",
    "def func(name, job):\n",
    "    print(name, 'is a', job)\n",
    "\n",
    "func(name='Bob', job='developer')   # Bob is a developer\n",
    "\n",
    "func(job='developer', name='Bob')   # Bob is a developer"
   ]
  },
  {
   "cell_type": "markdown",
   "metadata": {},
   "source": [
    "# Default Arguments\n",
    "* You can specify default values for arguments when defining a function.\n",
    "* The default value is used if the function is called without a corresponding argument.\n",
    "* In short, defaults allow you to make selected arguments optional."
   ]
  },
  {
   "cell_type": "code",
   "execution_count": 9,
   "metadata": {},
   "outputs": [
    {
     "name": "stdout",
     "output_type": "stream",
     "text": [
      "Bob is a manager\n",
      "Bob is a developer\n"
     ]
    }
   ],
   "source": [
    "# Example: Set default value ‘developer’ to a ‘job’ parameter\n",
    "\n",
    "def func(name, job='developer'):\n",
    "    print(name, 'is a', job)\n",
    "\n",
    "func('Bob', 'manager')    # Bob is a manager\n",
    "\n",
    "func('Bob')               # Bob is a developer"
   ]
  },
  {
   "cell_type": "markdown",
   "metadata": {},
   "source": [
    "# Variable Length Arguments (\\*args and \\**kwargs)\n",
    "* Variable length arguments are useful when you want to create functions that take unlimited number of arguments."
   ]
  },
  {
   "cell_type": "markdown",
   "metadata": {},
   "source": [
    "# *args\n",
    "* When you prefix a parameter with an asterisk * , it collects all the unmatched positional arguments into a tuple."
   ]
  },
  {
   "cell_type": "code",
   "execution_count": 11,
   "metadata": {},
   "outputs": [
    {
     "name": "stdout",
     "output_type": "stream",
     "text": [
      "(1, 54, 60, 8, 98, 12)\n"
     ]
    }
   ],
   "source": [
    "def print_arguments(*args):\n",
    "    print(args)\n",
    "\n",
    "print_arguments(1, 54, 60, 8, 98, 12)"
   ]
  },
  {
   "cell_type": "markdown",
   "metadata": {},
   "source": [
    "# **kwargs\n",
    "* The ** syntax is similar, but it only works for keyword arguments.\n",
    "\n",
    "* It collects them into a new dictionary, where the argument names are the keys, and their values are the corresponding dictionary values."
   ]
  },
  {
   "cell_type": "code",
   "execution_count": 12,
   "metadata": {},
   "outputs": [
    {
     "name": "stdout",
     "output_type": "stream",
     "text": [
      "{'name': 'Bob', 'age': 25, 'job': 'dev'}\n"
     ]
    }
   ],
   "source": [
    "def print_arguments(**kwargs):\n",
    "    print(kwargs)\n",
    "\n",
    "print_arguments(name='Bob', age=25, job='dev')"
   ]
  },
  {
   "cell_type": "markdown",
   "metadata": {},
   "source": [
    "# Return Value\n",
    "* To return a value from a function, simply use a return statement.\n",
    "* If you do not include any return statement, it automatically returns None. So, a python function always returns a value."
   ]
  },
  {
   "cell_type": "code",
   "execution_count": 13,
   "metadata": {},
   "outputs": [
    {
     "name": "stdout",
     "output_type": "stream",
     "text": [
      "7\n"
     ]
    }
   ],
   "source": [
    "# Example: Return sum of two values\n",
    "\n",
    "def sum(a, b):\n",
    "    return a + b\n",
    "\n",
    "x = sum(3, 4)\n",
    "print(x)  # 7"
   ]
  },
  {
   "cell_type": "markdown",
   "metadata": {},
   "source": [
    "# Return Multiple Values\n",
    "* Python has the ability to return multiple values\n",
    "* You can do this by separating return values with a comma."
   ]
  },
  {
   "cell_type": "code",
   "execution_count": 14,
   "metadata": {},
   "outputs": [
    {
     "name": "stdout",
     "output_type": "stream",
     "text": [
      "(5, 1)\n"
     ]
    }
   ],
   "source": [
    "# Example: Return addition and subtraction of two arguments\n",
    "\n",
    "def func(a, b):\n",
    "    return a+b, a-b\n",
    "\n",
    "result = func(3, 2)\n",
    "\n",
    "print(result)    # (5, 1)"
   ]
  },
  {
   "cell_type": "code",
   "execution_count": 15,
   "metadata": {},
   "outputs": [
    {
     "name": "stdout",
     "output_type": "stream",
     "text": [
      "5\n",
      "1\n"
     ]
    }
   ],
   "source": [
    "# Example: Unpack returned tuple\n",
    "\n",
    "def func(a, b):\n",
    "    return a+b, a-b\n",
    "\n",
    "add, sub = func(3, 2)\n",
    "\n",
    "print(add)      # 5\n",
    "print(sub)      # 1"
   ]
  },
  {
   "cell_type": "markdown",
   "metadata": {},
   "source": [
    "# Docstring\n",
    "* Docstrings are usually triple quoted to allow for multi-line descriptions."
   ]
  },
  {
   "cell_type": "code",
   "execution_count": 17,
   "metadata": {},
   "outputs": [],
   "source": [
    "# Example: Add a docstring to a function\n",
    "\n",
    "def hello():\n",
    "    \"\"\"This function prints\n",
    "       message on the screen\"\"\"  \n",
    "    print('Hello, World!')"
   ]
  },
  {
   "cell_type": "markdown",
   "metadata": {},
   "source": [
    "### To print a function’s docstring, use the Python help() function and pass the function’s name."
   ]
  },
  {
   "cell_type": "code",
   "execution_count": 21,
   "metadata": {},
   "outputs": [
    {
     "name": "stdout",
     "output_type": "stream",
     "text": [
      "Help on function hello in module __main__:\n",
      "\n",
      "hello()\n",
      "    This function prints\n",
      "    message on the screen\n",
      "\n"
     ]
    }
   ],
   "source": [
    "# Example: Print docstring in rich format\n",
    "\n",
    "help(hello)"
   ]
  },
  {
   "cell_type": "markdown",
   "metadata": {},
   "source": [
    "### You can also access the docstring through __doc__ attribute of the function."
   ]
  },
  {
   "cell_type": "code",
   "execution_count": 22,
   "metadata": {},
   "outputs": [
    {
     "name": "stdout",
     "output_type": "stream",
     "text": [
      "This function prints\n",
      "       message on the screen\n"
     ]
    }
   ],
   "source": [
    "# Example: Print docstring in a raw format\n",
    "\n",
    "print(hello.__doc__)"
   ]
  },
  {
   "cell_type": "markdown",
   "metadata": {},
   "source": [
    "# Nested Functions\n",
    "* A Nested function is a function defined within other function."
   ]
  },
  {
   "cell_type": "code",
   "execution_count": 23,
   "metadata": {},
   "outputs": [
    {
     "name": "stdout",
     "output_type": "stream",
     "text": [
      "6\n"
     ]
    }
   ],
   "source": [
    "def outer(a, b):\n",
    "    def inner(c, d):\n",
    "        return c + d\n",
    "    return inner(a, b)\n",
    "\n",
    "result = outer(2, 4)\n",
    "\n",
    "print(result)       # 6"
   ]
  },
  {
   "cell_type": "markdown",
   "metadata": {},
   "source": [
    "# Recursion\n",
    "* A recursive function is a function that calls itself and repeats its behavior until some condition is met to return a result."
   ]
  },
  {
   "cell_type": "code",
   "execution_count": 25,
   "metadata": {},
   "outputs": [
    {
     "name": "stdout",
     "output_type": "stream",
     "text": [
      "6\n"
     ]
    }
   ],
   "source": [
    "# Example: Find sum of numbers from 0 to 3, using recursive function\n",
    "\n",
    "def findSum(num):\n",
    "  if num:\n",
    "    return num + findSum(num-1)\n",
    "  else:\n",
    "    return 0\n",
    "\n",
    "x = findSum(3)\n",
    "print(x)  # 15"
   ]
  },
  {
   "cell_type": "markdown",
   "metadata": {},
   "source": [
    "# Assigning Functions to Variables\n",
    "* When Python runs a def statement, it creates a new function object and assigns it to the function’s name.\n",
    "\n",
    "* You can assign a different name to it anytime and call through the new name."
   ]
  },
  {
   "cell_type": "code",
   "execution_count": 26,
   "metadata": {},
   "outputs": [
    {
     "name": "stdout",
     "output_type": "stream",
     "text": [
      "Hello, World!\n"
     ]
    }
   ],
   "source": [
    "# Example: Assign a different name to ‘hello’ function and call through the new name\n",
    "\n",
    "def hello():\n",
    "    print('Hello, World!')\n",
    "  \n",
    "hi = hello\n",
    "hi()    # Hello, World!"
   ]
  },
  {
   "cell_type": "markdown",
   "metadata": {},
   "source": [
    "* You can use this feature to implement jump tables.\n",
    "\n",
    "* Jump tables are dictionaries of functions to be called on demand."
   ]
  },
  {
   "cell_type": "code",
   "execution_count": 27,
   "metadata": {},
   "outputs": [
    {
     "name": "stdout",
     "output_type": "stream",
     "text": [
      "9\n",
      "27\n"
     ]
    }
   ],
   "source": [
    "# Example: Create a dictionary of functions\n",
    "\n",
    "def findSquare(x):\n",
    "    return x ** 2\n",
    "\n",
    "def findCube(x):\n",
    "    return x ** 3\n",
    "\n",
    "exponent = {'square': findSquare, 'cube': findCube}\n",
    "\n",
    "print(exponent['square'](3))    # 9\n",
    "print(exponent['cube'](3))      # 27"
   ]
  },
  {
   "cell_type": "markdown",
   "metadata": {},
   "source": [
    "# Python Function Executes at Runtime"
   ]
  },
  {
   "cell_type": "code",
   "execution_count": 28,
   "metadata": {},
   "outputs": [
    {
     "name": "stdout",
     "output_type": "stream",
     "text": [
      "Hello, World!\n"
     ]
    }
   ],
   "source": [
    "if True:\n",
    "    def hello():\n",
    "        print('Hello, World!')\n",
    "else:\n",
    "    def hello():\n",
    "        print('Hello, Universe!')\n",
    "\n",
    "hello()     # Hello, World!"
   ]
  },
  {
   "cell_type": "code",
   "execution_count": null,
   "metadata": {},
   "outputs": [],
   "source": []
  }
 ],
 "metadata": {
  "kernelspec": {
   "display_name": "Python 3",
   "language": "python",
   "name": "python3"
  },
  "language_info": {
   "codemirror_mode": {
    "name": "ipython",
    "version": 3
   },
   "file_extension": ".py",
   "mimetype": "text/x-python",
   "name": "python",
   "nbconvert_exporter": "python",
   "pygments_lexer": "ipython3",
   "version": "3.7.5"
  }
 },
 "nbformat": 4,
 "nbformat_minor": 4
}
