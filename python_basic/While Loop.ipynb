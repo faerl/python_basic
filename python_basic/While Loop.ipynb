{
 "cells": [
  {
   "cell_type": "markdown",
   "metadata": {},
   "source": [
    "# Python While Loop\n",
    "* A while loop is used when you want to perform a task indefinitely, until a particular condition is met.\n",
    "\n",
    "* It’s a condition-controlled loop.\n",
    "\n",
    "# Syntax\n",
    "![](https://gitee.com/faerl/upic/raw/master/FDMdyh.png)"
   ]
  },
  {
   "cell_type": "markdown",
   "metadata": {},
   "source": [
    "# Basic Examples\n",
    "* Any non-zero value or nonempty container is considered TRUE; whereas Zero, None, and empty container is considered FALSE"
   ]
  },
  {
   "cell_type": "code",
   "execution_count": 4,
   "metadata": {},
   "outputs": [
    {
     "name": "stdout",
     "output_type": "stream",
     "text": [
      "6\n",
      "5\n",
      "4\n",
      "3\n",
      "2\n",
      "1\n",
      "0\n"
     ]
    }
   ],
   "source": [
    "# Example: Iterate until x becomes 0\n",
    "\n",
    "x = 6\n",
    "while x:\n",
    "    print(x)\n",
    "    x -= 1\n",
    "# 6 5 4 3 2 1"
   ]
  },
  {
   "cell_type": "code",
   "execution_count": 6,
   "metadata": {},
   "outputs": [
    {
     "name": "stdout",
     "output_type": "stream",
     "text": [
      "blue\n",
      "green\n",
      "red\n"
     ]
    },
    {
     "data": {
      "text/plain": [
       "[]"
      ]
     },
     "execution_count": 6,
     "metadata": {},
     "output_type": "execute_result"
    }
   ],
   "source": [
    "# Example: Iterate until list is empty\n",
    "\n",
    "L = ['red', 'green', 'blue']\n",
    "while L:\n",
    "    print(L.pop()) # blue green red"
   ]
  },
  {
   "cell_type": "code",
   "execution_count": 9,
   "metadata": {},
   "outputs": [
    {
     "name": "stdout",
     "output_type": "stream",
     "text": [
      "blue\n",
      "lue\n",
      "ue\n",
      "e\n"
     ]
    }
   ],
   "source": [
    "# Example: Iterate until string is empty\n",
    "\n",
    "x = 'blue'\n",
    "while x:\n",
    "    print(x)\n",
    "    x = x[1:] #blue lue ue e"
   ]
  },
  {
   "cell_type": "markdown",
   "metadata": {},
   "source": [
    "* If the condition is false at the start, the while loop will never be executed at all."
   ]
  },
  {
   "cell_type": "code",
   "execution_count": 12,
   "metadata": {},
   "outputs": [],
   "source": [
    "# Example: Exit condition is false at the start\n",
    "\n",
    "x = 0\n",
    "while x:\n",
    "    print(x)\n",
    "    x -= 1"
   ]
  },
  {
   "cell_type": "markdown",
   "metadata": {},
   "source": [
    "# Break in while Loop\n",
    "* Python break statement is used to exit the loop immediately.\n",
    "* It simply jumps out of the loop altogether, and the program continues after the loop."
   ]
  },
  {
   "cell_type": "code",
   "execution_count": 16,
   "metadata": {},
   "outputs": [
    {
     "name": "stdout",
     "output_type": "stream",
     "text": [
      "6\n",
      "5\n",
      "4\n"
     ]
    }
   ],
   "source": [
    "# Example: Exit when x becomes 3\n",
    "\n",
    "x = 6\n",
    "while x:\n",
    "    print(x)\n",
    "    x -= 1\n",
    "    if x == 3:\n",
    "        break\n",
    "# 6 5 4"
   ]
  },
  {
   "cell_type": "markdown",
   "metadata": {},
   "source": [
    "# Continue in while Loop\n",
    "* The continue statement skips the current iteration of a loop and continues with the next iteration."
   ]
  },
  {
   "cell_type": "code",
   "execution_count": 17,
   "metadata": {},
   "outputs": [
    {
     "name": "stdout",
     "output_type": "stream",
     "text": [
      "4\n",
      "2\n",
      "0\n"
     ]
    }
   ],
   "source": [
    "# Example: Skip odd numbers\n",
    "\n",
    "x = 6\n",
    "while x:\n",
    "\tx -= 1\n",
    "\tif x % 2 != 0:\n",
    "\t\tcontinue\n",
    "\tprint(x)\n",
    "# 4 2 0"
   ]
  },
  {
   "cell_type": "markdown",
   "metadata": {},
   "source": [
    "# Else in While Loop\n",
    "* The else clause will be executed when the loop terminates normally (the condition becomes false)."
   ]
  },
  {
   "cell_type": "code",
   "execution_count": 18,
   "metadata": {},
   "outputs": [
    {
     "name": "stdout",
     "output_type": "stream",
     "text": [
      "6\n",
      "5\n",
      "4\n",
      "3\n",
      "2\n",
      "1\n",
      "Done!\n"
     ]
    }
   ],
   "source": [
    "# Example: else clause when loop terminates normally\n",
    "\n",
    "x = 6\n",
    "while x:\n",
    "    print(x)\n",
    "    x -= 1\n",
    "else:\n",
    "    print('Done!')\n",
    "# 6 5 4 3 2 1\n",
    "# Done!"
   ]
  },
  {
   "cell_type": "code",
   "execution_count": 19,
   "metadata": {},
   "outputs": [
    {
     "name": "stdout",
     "output_type": "stream",
     "text": [
      "Done!\n"
     ]
    }
   ],
   "source": [
    "# Example: else clause when the condition is false at the start\n",
    "\n",
    "x = 0\n",
    "while x:\n",
    "    print(x)\n",
    "    x -= 1\n",
    "else:\n",
    "    print('Done!')\n",
    "# Done!"
   ]
  },
  {
   "cell_type": "markdown",
   "metadata": {},
   "source": [
    "* If the loop terminates prematurely with break, the else clause won’t be executed."
   ]
  },
  {
   "cell_type": "code",
   "execution_count": 20,
   "metadata": {},
   "outputs": [
    {
     "name": "stdout",
     "output_type": "stream",
     "text": [
      "6\n",
      "5\n",
      "4\n"
     ]
    }
   ],
   "source": [
    "# Example: else clause when loop terminates prematurely\n",
    "\n",
    "x = 6\n",
    "while x:\n",
    "    print(x)\n",
    "    x -= 1\n",
    "    if x == 3:\n",
    "        break\n",
    "else:\n",
    "    print('Done!')\n",
    "# 6 5 4"
   ]
  },
  {
   "cell_type": "markdown",
   "metadata": {},
   "source": [
    "# Infinte Loop (while true)\n",
    "* The condition must eventually become false. Otherwise, the loop will execute forever, creating an infinite/endless loop."
   ]
  },
  {
   "cell_type": "code",
   "execution_count": null,
   "metadata": {},
   "outputs": [],
   "source": [
    "# Example: Implement infinite loop safely\n",
    "\n",
    "while True:\n",
    "    name = input('Enter name:')\n",
    "    if name == 'stop': break\n",
    "    print('Hello', name)"
   ]
  },
  {
   "cell_type": "code",
   "execution_count": null,
   "metadata": {},
   "outputs": [],
   "source": [
    "\n"
   ]
  }
 ],
 "metadata": {
  "kernelspec": {
   "display_name": "Python 3",
   "language": "python",
   "name": "python3"
  },
  "language_info": {
   "codemirror_mode": {
    "name": "ipython",
    "version": 3
   },
   "file_extension": ".py",
   "mimetype": "text/x-python",
   "name": "python",
   "nbconvert_exporter": "python",
   "pygments_lexer": "ipython3",
   "version": "3.7.5"
  }
 },
 "nbformat": 4,
 "nbformat_minor": 4
}
