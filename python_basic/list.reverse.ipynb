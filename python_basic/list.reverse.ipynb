{
 "cells": [
  {
   "cell_type": "markdown",
   "metadata": {},
   "source": [
    "# list.reverse()\n",
    "Reverses the order of the list"
   ]
  },
  {
   "cell_type": "code",
   "execution_count": 1,
   "metadata": {},
   "outputs": [
    {
     "name": "stdout",
     "output_type": "stream",
     "text": [
      "['blue', 'green', 'red']\n"
     ]
    }
   ],
   "source": [
    "# Example: Reverse the order of the list\n",
    "L = ['red', 'green', 'blue']\n",
    "L.reverse()\n",
    "print(L)\t# ['blue', 'green', 'red']"
   ]
  },
  {
   "cell_type": "code",
   "execution_count": 28,
   "metadata": {},
   "outputs": [
    {
     "name": "stdout",
     "output_type": "stream",
     "text": [
      "blue\n",
      "green\n",
      "red\n"
     ]
    }
   ],
   "source": [
    "# Example: Access list items in reverse order\n",
    "# If you don’t want to modify the list but access items in reverse order, you can use reversed() built-in function.\n",
    "\n",
    "L = ['red', 'green', 'blue']\n",
    "for x in reversed(L):\n",
    "  print(x)\n",
    "# blue green red"
   ]
  },
  {
   "cell_type": "code",
   "execution_count": null,
   "metadata": {},
   "outputs": [],
   "source": []
  }
 ],
 "metadata": {
  "kernelspec": {
   "display_name": "Python 3",
   "language": "python",
   "name": "python3"
  },
  "language_info": {
   "codemirror_mode": {
    "name": "ipython",
    "version": 3
   },
   "file_extension": ".py",
   "mimetype": "text/x-python",
   "name": "python",
   "nbconvert_exporter": "python",
   "pygments_lexer": "ipython3",
   "version": "3.7.5"
  }
 },
 "nbformat": 4,
 "nbformat_minor": 4
}
