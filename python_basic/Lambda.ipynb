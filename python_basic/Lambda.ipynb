{
 "cells": [
  {
   "cell_type": "markdown",
   "metadata": {},
   "source": [
    "# Python Lambda Function\n",
    "* A lambda function is an in-line function that does not have a name.\n",
    "* It is often known as anonymous function.\n",
    "* lambda contains only a single expression"
   ]
  },
  {
   "cell_type": "markdown",
   "metadata": {},
   "source": [
    "# Syntax\n",
    "![](https://gitee.com/faerl/upic/raw/master/5j5Ytk.png)"
   ]
  },
  {
   "cell_type": "markdown",
   "metadata": {},
   "source": [
    "# Basic Example"
   ]
  },
  {
   "cell_type": "code",
   "execution_count": 1,
   "metadata": {},
   "outputs": [
    {
     "name": "stdout",
     "output_type": "stream",
     "text": [
      "4\n",
      "10\n"
     ]
    }
   ],
   "source": [
    "def doubler(x):\n",
    "    return x*2\n",
    "\n",
    "print(doubler(2))    # 4\n",
    "print(doubler(5))    # 10"
   ]
  },
  {
   "cell_type": "code",
   "execution_count": 2,
   "metadata": {},
   "outputs": [
    {
     "name": "stdout",
     "output_type": "stream",
     "text": [
      "4\n",
      "10\n"
     ]
    }
   ],
   "source": [
    "# Example:You can achieve the same result with a lambda function.\n",
    "\n",
    "doubler = lambda x: x*2\n",
    "\n",
    "print(doubler(2))    # 4\n",
    "print(doubler(5))    # 10"
   ]
  },
  {
   "cell_type": "markdown",
   "metadata": {},
   "source": [
    "# Multiple Arguments\n",
    "* You can send as many arguments as you like to a lambda function; just separate them with a comma ,."
   ]
  },
  {
   "cell_type": "code",
   "execution_count": 3,
   "metadata": {},
   "outputs": [
    {
     "name": "stdout",
     "output_type": "stream",
     "text": [
      "10\n"
     ]
    }
   ],
   "source": [
    "# Example: A lambda function that multiplies two values\n",
    "\n",
    "mul = lambda x, y: x*y\n",
    "print(mul(2, 5))    # 10"
   ]
  },
  {
   "cell_type": "code",
   "execution_count": 5,
   "metadata": {},
   "outputs": [
    {
     "name": "stdout",
     "output_type": "stream",
     "text": [
      "6\n"
     ]
    }
   ],
   "source": [
    "# Example: A lambda function that adds three values\n",
    "\n",
    "add = lambda x, y, z: x+y+z\n",
    "print(add(1, 2, 3))    # 17"
   ]
  },
  {
   "cell_type": "markdown",
   "metadata": {},
   "source": [
    "# Default Argument Value\n",
    "* You can assign a default value to an argument.\n",
    "* So, when you call the lambda function without argument, it uses the default value."
   ]
  },
  {
   "cell_type": "code",
   "execution_count": 6,
   "metadata": {},
   "outputs": [
    {
     "name": "stdout",
     "output_type": "stream",
     "text": [
      "8\n",
      "6\n"
     ]
    }
   ],
   "source": [
    "# Example: A lambda function that increments value by 1 by default\n",
    "\n",
    "incrementer = lambda x, y=1: x+y\n",
    "print(incrementer(5, 3))\t# 8\n",
    "\n",
    "# using default\n",
    "print(incrementer(5))\t\t# 6"
   ]
  },
  {
   "cell_type": "markdown",
   "metadata": {},
   "source": [
    "# Return Multiple Values\n",
    "* To return multiple values pack them in a tuple.\n",
    "* Then use multiple assignment to unpack the parts of the returned tuple."
   ]
  },
  {
   "cell_type": "code",
   "execution_count": 8,
   "metadata": {},
   "outputs": [
    {
     "name": "stdout",
     "output_type": "stream",
     "text": [
      "4\n",
      "8\n"
     ]
    }
   ],
   "source": [
    "# Example: Return multiple values by packing them in a tuple\n",
    "\n",
    "findSquareCube = lambda num: (num**2, num**3)\n",
    "x, y = findSquareCube(2)\n",
    "print(x)  # 4\n",
    "print(y)  # 8"
   ]
  },
  {
   "cell_type": "markdown",
   "metadata": {},
   "source": [
    "# if else in a Lambda"
   ]
  },
  {
   "cell_type": "code",
   "execution_count": 9,
   "metadata": {},
   "outputs": [
    {
     "name": "stdout",
     "output_type": "stream",
     "text": [
      "2\n",
      "a\n"
     ]
    }
   ],
   "source": [
    "# Example: A lambda function that returns the smallest item\n",
    "\n",
    "findMin = lambda x, y: x if x < y else y\n",
    "\n",
    "print(findMin(2, 4))      # 2\n",
    "print(findMin('a', 'x'))  # a"
   ]
  },
  {
   "cell_type": "markdown",
   "metadata": {},
   "source": [
    "# map() with a Lambda\n",
    "* The map() function applies the given function on every item of iterable and returns a list."
   ]
  },
  {
   "cell_type": "code",
   "execution_count": 13,
   "metadata": {},
   "outputs": [
    {
     "name": "stdout",
     "output_type": "stream",
     "text": [
      "<map object at 0x103e604d0>\n"
     ]
    },
    {
     "data": {
      "text/plain": [
       "[2, 4, 6, 8, 10, 12]"
      ]
     },
     "execution_count": 13,
     "metadata": {},
     "output_type": "execute_result"
    }
   ],
   "source": [
    "# Example: Double each item of the list\n",
    "\n",
    "L = [1, 2, 3, 4, 5, 6]\n",
    "double = map(lambda x: x*2, L)\n",
    "print(double)  # [2, 4, 6, 8, 10, 12]\n",
    "list(double)"
   ]
  },
  {
   "cell_type": "markdown",
   "metadata": {},
   "source": [
    "# filter() with a Lambda\n",
    "* The filter() function creates a list where the items are filtered through a function to test if the item is accepted or not."
   ]
  },
  {
   "cell_type": "code",
   "execution_count": 12,
   "metadata": {},
   "outputs": [
    {
     "name": "stdout",
     "output_type": "stream",
     "text": [
      "<filter object at 0x103e730d0>\n"
     ]
    },
    {
     "data": {
      "text/plain": [
       "[19, 24, 42]"
      ]
     },
     "execution_count": 12,
     "metadata": {},
     "output_type": "execute_result"
    }
   ],
   "source": [
    "# Example: Filter the values above 18\n",
    "\n",
    "age = [5, 11, 16, 19, 24, 42]\n",
    "adults = filter(lambda x: x > 18, age)\n",
    "print(adults)\t# [19, 24, 42]\n",
    "list(adults)"
   ]
  },
  {
   "cell_type": "markdown",
   "metadata": {},
   "source": [
    "# List Comprehension in a Lambda"
   ]
  },
  {
   "cell_type": "code",
   "execution_count": 14,
   "metadata": {},
   "outputs": [
    {
     "name": "stdout",
     "output_type": "stream",
     "text": [
      "[1, 2, 3, 4, 5, 6, 7, 8, 9]\n",
      "['a', 'b', 'c', 'd', 'e']\n"
     ]
    }
   ],
   "source": [
    "# Example: Flatten a nested list with lambda\n",
    "\n",
    "flatten = lambda l: [item for sublist in l for item in sublist]\n",
    "\n",
    "L = [[1, 2, 3], [4, 5, 6], [7], [8, 9]]\n",
    "print(flatten(L))\t# [1, 2, 3, 4, 5, 6, 7, 8, 9]\n",
    "\n",
    "L = [['a', 'b', 'c'], ['d', 'e']]\n",
    "print(flatten(L))\t# ['a', 'b', 'c', 'd', 'e']"
   ]
  },
  {
   "cell_type": "markdown",
   "metadata": {},
   "source": [
    "# Sort With a lambda\n",
    "* A lambda function can be used with sorted() function to sort an iterable."
   ]
  },
  {
   "cell_type": "code",
   "execution_count": 15,
   "metadata": {},
   "outputs": [
    {
     "name": "stdout",
     "output_type": "stream",
     "text": [
      "[('Max', 25), ('Bob', 30), ('Sam', 35)]\n"
     ]
    }
   ],
   "source": [
    "# Example: Sort a list of tuples based on age of students\n",
    "\n",
    "L = [('Sam', 35),\n",
    "    ('Max', 25),\n",
    "    ('Bob', 30)]\n",
    "x = sorted(L, key=lambda student: student[1])\n",
    "print(x)\t# [('Max', 25), ('Bob', 30), ('Sam', 35)]"
   ]
  },
  {
   "cell_type": "markdown",
   "metadata": {},
   "source": [
    "# Nested Lambdas"
   ]
  },
  {
   "cell_type": "code",
   "execution_count": 16,
   "metadata": {},
   "outputs": [
    {
     "name": "stdout",
     "output_type": "stream",
     "text": [
      "20\n",
      "30\n"
     ]
    }
   ],
   "source": [
    "# Example: Nested Lambdas\n",
    "\n",
    "multiplier = (lambda x: (lambda y: x*y))\n",
    "\n",
    "doubler = multiplier(2)\n",
    "print(doubler(10))    # 20\n",
    "\n",
    "tripler = multiplier(3)\n",
    "print(tripler(10))    # 30"
   ]
  },
  {
   "cell_type": "markdown",
   "metadata": {},
   "source": [
    "# Jump Tables"
   ]
  },
  {
   "cell_type": "code",
   "execution_count": 17,
   "metadata": {},
   "outputs": [
    {
     "name": "stdout",
     "output_type": "stream",
     "text": [
      "9\n",
      "27\n"
     ]
    }
   ],
   "source": [
    "# Example: Create jump table of square and cube in python\n",
    "\n",
    "# dictionary of functions\n",
    "exponent = {'square':lambda x: x ** 2,\n",
    "            'cube':lambda x: x ** 3}\n",
    "\n",
    "print(exponent['square'](3))    # 9\n",
    "print(exponent['cube'](3))      # 27"
   ]
  },
  {
   "cell_type": "code",
   "execution_count": 18,
   "metadata": {},
   "outputs": [
    {
     "name": "stdout",
     "output_type": "stream",
     "text": [
      "9\n",
      "27\n"
     ]
    }
   ],
   "source": [
    "# list of functions\n",
    "exponent = [lambda x: x ** 2,\n",
    "            lambda x: x ** 3]\n",
    "\n",
    "print(exponent[0](3))   # 9\n",
    "print(exponent[1](3))   # 27"
   ]
  },
  {
   "cell_type": "code",
   "execution_count": null,
   "metadata": {},
   "outputs": [],
   "source": []
  }
 ],
 "metadata": {
  "kernelspec": {
   "display_name": "Python 3",
   "language": "python",
   "name": "python3"
  },
  "language_info": {
   "codemirror_mode": {
    "name": "ipython",
    "version": 3
   },
   "file_extension": ".py",
   "mimetype": "text/x-python",
   "name": "python",
   "nbconvert_exporter": "python",
   "pygments_lexer": "ipython3",
   "version": "3.7.5"
  }
 },
 "nbformat": 4,
 "nbformat_minor": 4
}
