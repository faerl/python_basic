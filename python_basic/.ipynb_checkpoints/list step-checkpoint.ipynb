{
 "cells": [
  {
   "cell_type": "markdown",
   "metadata": {},
   "source": [
    "# Create a List"
   ]
  },
  {
   "cell_type": "code",
   "execution_count": 2,
   "metadata": {},
   "outputs": [
    {
     "data": {
      "text/plain": [
       "[1, 2, 3]"
      ]
     },
     "execution_count": 2,
     "metadata": {},
     "output_type": "execute_result"
    }
   ],
   "source": [
    "L = [1, 2, 3]\n",
    "L"
   ]
  },
  {
   "cell_type": "markdown",
   "metadata": {},
   "source": [
    "# Constructor"
   ]
  },
  {
   "cell_type": "code",
   "execution_count": 3,
   "metadata": {},
   "outputs": [
    {
     "name": "stdout",
     "output_type": "stream",
     "text": [
      "['a', 'b', 'c']\n"
     ]
    }
   ],
   "source": [
    "L = list('abc')\n",
    "print(L)    # ['a', 'b', 'c']"
   ]
  },
  {
   "cell_type": "markdown",
   "metadata": {},
   "source": [
    "# Change Item Value"
   ]
  },
  {
   "cell_type": "code",
   "execution_count": 4,
   "metadata": {},
   "outputs": [
    {
     "name": "stdout",
     "output_type": "stream",
     "text": [
      "['orange', 'green', 'blue']\n",
      "['orange', 'green', 'violet']\n"
     ]
    }
   ],
   "source": [
    "L = ['red', 'green', 'blue']\n",
    "\n",
    "L[0] = 'orange'\n",
    "print(L)    # ['orange', 'green', 'blue']\n",
    "\n",
    "L[-1] = 'violet'\n",
    "print(L)    # ['orange', 'green', 'violet']"
   ]
  },
  {
   "cell_type": "markdown",
   "metadata": {},
   "source": [
    "# Add items to a list"
   ]
  },
  {
   "cell_type": "code",
   "execution_count": 5,
   "metadata": {},
   "outputs": [
    {
     "name": "stdout",
     "output_type": "stream",
     "text": [
      "['red', 'green', 'yellow', 'blue']\n",
      "['red', 'blue', 'green', 'yellow']\n"
     ]
    }
   ],
   "source": [
    "L = ['red', 'green', 'yellow']\n",
    "L.append('blue')\n",
    "print(L)    # ['red', 'green', 'yellow', 'blue']\n",
    "\n",
    "L = ['red', 'green', 'yellow']\n",
    "L.insert(1,'blue')\n",
    "print(L)    # ['red', 'blue', 'green', 'yellow']"
   ]
  },
  {
   "cell_type": "markdown",
   "metadata": {},
   "source": [
    "# Combine Lists"
   ]
  },
  {
   "cell_type": "code",
   "execution_count": 6,
   "metadata": {},
   "outputs": [
    {
     "name": "stdout",
     "output_type": "stream",
     "text": [
      "['red', 'green', 'yellow', 1, 2, 3]\n",
      "['red', 'green', 'blue', 1, 2, 3]\n",
      "['red', 'green', 'blue', 1, 2, 3]\n"
     ]
    }
   ],
   "source": [
    "L = ['red', 'green', 'yellow']\n",
    "L.extend([1,2,3])\n",
    "print(L)    # ['red', 'green', 'yellow', 1, 2, 3]\n",
    "\n",
    "# concatenation operator\n",
    "L = ['red', 'green', 'blue']\n",
    "L = L + [1,2,3]\n",
    "print(L)    # ['red', 'green', 'blue', 1, 2, 3]\n",
    "\n",
    "# augmented assignment operator\n",
    "L = ['red', 'green', 'blue']\n",
    "L += [1,2,3]\n",
    "print(L)    # ['red', 'green', 'blue', 1, 2, 3]"
   ]
  },
  {
   "cell_type": "markdown",
   "metadata": {},
   "source": [
    "# List Replication"
   ]
  },
  {
   "cell_type": "code",
   "execution_count": 8,
   "metadata": {},
   "outputs": [
    {
     "name": "stdout",
     "output_type": "stream",
     "text": [
      "['red', 'red', 'red']\n"
     ]
    }
   ],
   "source": [
    "L = ['red']\n",
    "L = L * 3\n",
    "print(L)    # ['red', 'red', 'red']"
   ]
  },
  {
   "cell_type": "markdown",
   "metadata": {},
   "source": [
    "# Remove an Item by Index"
   ]
  },
  {
   "cell_type": "code",
   "execution_count": 9,
   "metadata": {},
   "outputs": [
    {
     "name": "stdout",
     "output_type": "stream",
     "text": [
      "['red', 'blue']\n",
      "green\n",
      "['red', 'blue']\n"
     ]
    }
   ],
   "source": [
    "L = ['red', 'green', 'blue']\n",
    "x = L.pop(1)\n",
    "print(L)\t# ['red', 'blue']\n",
    "\n",
    "# removed item\n",
    "print(x)\t# green\n",
    "\n",
    "L = ['red', 'green', 'blue']\n",
    "del L[1]\n",
    "print(L)\t# ['red', 'blue']"
   ]
  },
  {
   "cell_type": "markdown",
   "metadata": {},
   "source": [
    "# Remove an Item by Value"
   ]
  },
  {
   "cell_type": "code",
   "execution_count": 12,
   "metadata": {},
   "outputs": [
    {
     "name": "stdout",
     "output_type": "stream",
     "text": [
      "['green', 'blue', 'red']\n"
     ]
    }
   ],
   "source": [
    "L = ['red', 'green', 'blue', 'red']\n",
    "L.remove('red')\n",
    "print(L)\t# ['green', 'blue', 'red']"
   ]
  },
  {
   "cell_type": "markdown",
   "metadata": {},
   "source": [
    "# Remove Multiple Items\n",
    "To remove more than one items, use the del keyword with a slice index."
   ]
  },
  {
   "cell_type": "code",
   "execution_count": 13,
   "metadata": {},
   "outputs": [
    {
     "name": "stdout",
     "output_type": "stream",
     "text": [
      "['red', 'black']\n"
     ]
    }
   ],
   "source": [
    "L = ['red', 'green', 'blue', 'yellow', 'black']\n",
    "del L[1:4]\n",
    "print(L)\t# ['red', 'black']"
   ]
  },
  {
   "cell_type": "markdown",
   "metadata": {},
   "source": [
    "# Remove all Items"
   ]
  },
  {
   "cell_type": "code",
   "execution_count": 14,
   "metadata": {},
   "outputs": [
    {
     "name": "stdout",
     "output_type": "stream",
     "text": [
      "[]\n"
     ]
    }
   ],
   "source": [
    "L = ['red', 'green', 'blue']\n",
    "L.clear()\n",
    "print(L)\t# []"
   ]
  },
  {
   "cell_type": "code",
   "execution_count": null,
   "metadata": {},
   "outputs": [],
   "source": []
  }
 ],
 "metadata": {
  "kernelspec": {
   "display_name": "Python 3",
   "language": "python",
   "name": "python3"
  },
  "language_info": {
   "codemirror_mode": {
    "name": "ipython",
    "version": 3
   },
   "file_extension": ".py",
   "mimetype": "text/x-python",
   "name": "python",
   "nbconvert_exporter": "python",
   "pygments_lexer": "ipython3",
   "version": "3.7.5"
  }
 },
 "nbformat": 4,
 "nbformat_minor": 4
}
