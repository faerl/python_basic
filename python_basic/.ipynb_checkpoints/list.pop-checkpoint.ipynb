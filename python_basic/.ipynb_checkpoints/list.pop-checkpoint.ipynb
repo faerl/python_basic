{
 "cells": [
  {
   "cell_type": "markdown",
   "metadata": {},
   "source": [
    "# list.pop(index)\n",
    "Removes an item at specified index\n",
    "\n",
    "返回值是弹出的项\n",
    "\n",
    "会报 IndexError"
   ]
  },
  {
   "cell_type": "code",
   "execution_count": null,
   "metadata": {},
   "outputs": [],
   "source": [
    "L = ['red', 'green', 'blue']\n",
    "L.pop(1)\n",
    "print(L)\t# ['red', 'blue']"
   ]
  },
  {
   "cell_type": "code",
   "execution_count": null,
   "metadata": {},
   "outputs": [],
   "source": [
    "L = ['red', 'green', 'blue']\n",
    "L.pop(-2)\n",
    "print(L)\t# ['red', 'blue']"
   ]
  },
  {
   "cell_type": "code",
   "execution_count": 19,
   "metadata": {},
   "outputs": [
    {
     "name": "stdout",
     "output_type": "stream",
     "text": [
      "green\n"
     ]
    }
   ],
   "source": [
    "# Example: Print value of the removed item\n",
    "L = ['red', 'green', 'blue']\n",
    "x = L.pop(1)\n",
    "print(x)    # green"
   ]
  },
  {
   "cell_type": "code",
   "execution_count": null,
   "metadata": {},
   "outputs": [],
   "source": [
    "# Example: Remove last item\n",
    "L = ['red', 'green', 'blue']\n",
    "L.pop()\n",
    "print(L)\t# ['red', 'green']"
   ]
  },
  {
   "cell_type": "code",
   "execution_count": null,
   "metadata": {},
   "outputs": [],
   "source": []
  }
 ],
 "metadata": {
  "kernelspec": {
   "display_name": "Python 3",
   "language": "python",
   "name": "python3"
  },
  "language_info": {
   "codemirror_mode": {
    "name": "ipython",
    "version": 3
   },
   "file_extension": ".py",
   "mimetype": "text/x-python",
   "name": "python",
   "nbconvert_exporter": "python",
   "pygments_lexer": "ipython3",
   "version": "3.7.5"
  }
 },
 "nbformat": 4,
 "nbformat_minor": 4
}
