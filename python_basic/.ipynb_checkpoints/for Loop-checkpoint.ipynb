{
 "cells": [
  {
   "cell_type": "markdown",
   "metadata": {},
   "source": [
    "# Python for Loop\n",
    "* Rather than iterating over a numeric progression, \n",
    "* Python’s for statement iterates over the items of any iterable (list, tuple, dictionary, set, or string)\n",
    "* The items are iterated in the order that they appear in the iterable.\n",
    "\n",
    "# Syntax\n",
    "![](https://gitee.com/faerl/upic/raw/master/7ypyXr.png)"
   ]
  },
  {
   "cell_type": "code",
   "execution_count": 1,
   "metadata": {},
   "outputs": [
    {
     "name": "stdout",
     "output_type": "stream",
     "text": [
      "red\n",
      "green\n",
      "blue\n",
      "yellow\n"
     ]
    }
   ],
   "source": [
    "# Example: Iterate through a list\n",
    "\n",
    "colors = ['red', 'green', 'blue', 'yellow']\n",
    "for x in colors:\n",
    "    print(x)\n",
    "# red green blue yellow"
   ]
  },
  {
   "cell_type": "code",
   "execution_count": 2,
   "metadata": {},
   "outputs": [
    {
     "name": "stdout",
     "output_type": "stream",
     "text": [
      "p\n",
      "y\n",
      "t\n",
      "h\n",
      "o\n",
      "n\n"
     ]
    }
   ],
   "source": [
    "# Example: Iterate through a string\n",
    "\n",
    "S = 'python'\n",
    "for x in S:\n",
    "    print(x)\n",
    "# p y t h o n"
   ]
  },
  {
   "cell_type": "markdown",
   "metadata": {},
   "source": [
    "# Break in for Loop\n",
    "* Python break statement is used to exit the loop immediately.\n",
    "* It simply jumps out of the loop altogether, and the program continues after the loop."
   ]
  },
  {
   "cell_type": "code",
   "execution_count": 5,
   "metadata": {},
   "outputs": [
    {
     "name": "stdout",
     "output_type": "stream",
     "text": [
      "red\n",
      "green\n"
     ]
    }
   ],
   "source": [
    "# Example: Break the loop at ‘blue’\n",
    "\n",
    "colors = ['red', 'green', 'blue', 'yellow']\n",
    "for x in colors:\n",
    "    if x == 'blue':\n",
    "        break\n",
    "    print(x)\n",
    "# red green"
   ]
  },
  {
   "cell_type": "markdown",
   "metadata": {},
   "source": [
    "# Continue in for Loop\n",
    "* The continue statement skips the current iteration of a loop and continues with the next iteration."
   ]
  },
  {
   "cell_type": "code",
   "execution_count": 6,
   "metadata": {},
   "outputs": [
    {
     "name": "stdout",
     "output_type": "stream",
     "text": [
      "red\n",
      "green\n",
      "yellow\n"
     ]
    }
   ],
   "source": [
    "# Example: Skip ‘blue’\n",
    "\n",
    "colors = ['red', 'green', 'blue', 'yellow']\n",
    "for x in colors:\n",
    "    if x == 'blue':\n",
    "        continue\n",
    "    print(x)\n",
    "# red green yellow"
   ]
  },
  {
   "cell_type": "markdown",
   "metadata": {},
   "source": [
    "# Else in for Loop\n",
    "* Python allows an optional else clause at the end of a for loop.\n",
    "* The else clause will be executed if the loop terminates naturally (through exhaustion)."
   ]
  },
  {
   "cell_type": "code",
   "execution_count": 8,
   "metadata": {},
   "outputs": [
    {
     "name": "stdout",
     "output_type": "stream",
     "text": [
      "red\n",
      "green\n",
      "blue\n",
      "yellow\n",
      "Done!\n"
     ]
    }
   ],
   "source": [
    "# Example: else clause is executed when loop terminates naturally\n",
    "\n",
    "colors = ['red', 'green', 'blue', 'yellow']\n",
    "for x in colors:\n",
    "    print(x)\n",
    "else:\n",
    "    print('Done!')\n",
    "# red green blue yellow\n",
    "# Done!"
   ]
  },
  {
   "cell_type": "markdown",
   "metadata": {},
   "source": [
    "* If the loop terminates prematurely with break, the else clause won’t be executed."
   ]
  },
  {
   "cell_type": "code",
   "execution_count": 9,
   "metadata": {},
   "outputs": [
    {
     "name": "stdout",
     "output_type": "stream",
     "text": [
      "red\n",
      "green\n"
     ]
    }
   ],
   "source": [
    "# Example: else clause is not executed when loop terminates prematurely\n",
    "\n",
    "colors = ['red', 'green', 'blue', 'yellow']\n",
    "for x in colors:\n",
    "    if x == 'blue':\n",
    "        break\n",
    "    print(x)\n",
    "else:\n",
    "    print('Done!')\n",
    "# red green"
   ]
  },
  {
   "cell_type": "markdown",
   "metadata": {},
   "source": [
    "# range() function in for loop\n",
    "* If you need to execute a group of statements for a specified number of times, use built-in function range()\n",
    "* The range() function generates a sequence of numbers from 0 up to (but not including) specified number."
   ]
  },
  {
   "cell_type": "code",
   "execution_count": 10,
   "metadata": {},
   "outputs": [
    {
     "name": "stdout",
     "output_type": "stream",
     "text": [
      "0\n",
      "1\n",
      "2\n",
      "3\n",
      "4\n",
      "5\n",
      "6\n"
     ]
    }
   ],
   "source": [
    "# Example: Generate a sequence of numbers from 0 6\n",
    "\n",
    "for x in range(7):\n",
    "    print(x)\n",
    "# 0 1 2 3 4 5 6"
   ]
  },
  {
   "cell_type": "code",
   "execution_count": 11,
   "metadata": {},
   "outputs": [
    {
     "name": "stdout",
     "output_type": "stream",
     "text": [
      "Hello!\n",
      "Hello!\n",
      "Hello!\n"
     ]
    }
   ],
   "source": [
    "# Example: Print ‘Hello!’ three times\n",
    "\n",
    "for x in range(3):\n",
    "    print('Hello!')\n",
    "# Hello!\n",
    "# Hello!\n",
    "# Hello!"
   ]
  },
  {
   "cell_type": "code",
   "execution_count": 12,
   "metadata": {},
   "outputs": [
    {
     "name": "stdout",
     "output_type": "stream",
     "text": [
      "2\n",
      "3\n",
      "4\n",
      "5\n",
      "6\n"
     ]
    }
   ],
   "source": [
    "# Example: Generate a sequence of numbers from 2 to 6\n",
    "\n",
    "for x in range(2, 7):\n",
    "    print(x)\n",
    "# 2 3 4 5 6"
   ]
  },
  {
   "cell_type": "code",
   "execution_count": 13,
   "metadata": {},
   "outputs": [
    {
     "name": "stdout",
     "output_type": "stream",
     "text": [
      "-5\n",
      "-4\n",
      "-3\n",
      "-2\n",
      "-1\n"
     ]
    }
   ],
   "source": [
    "# Example: Generate a sequence of negative numbers\n",
    "\n",
    "for x in range(-5,0):\n",
    "    print(x)\n",
    "# -5 -4 -3 -2 -1"
   ]
  },
  {
   "cell_type": "code",
   "execution_count": 14,
   "metadata": {},
   "outputs": [
    {
     "name": "stdout",
     "output_type": "stream",
     "text": [
      "2\n",
      "4\n",
      "6\n"
     ]
    }
   ],
   "source": [
    "# Example: Increment the range() with 2\n",
    "\n",
    "for x in range(2, 7, 2):\n",
    "    print(x)\n",
    "# 2 4 6"
   ]
  },
  {
   "cell_type": "markdown",
   "metadata": {},
   "source": [
    "# Nested for Loop\n",
    "* A loop inside another loop is called a nested loop."
   ]
  },
  {
   "cell_type": "code",
   "execution_count": 19,
   "metadata": {},
   "outputs": [
    {
     "name": "stdout",
     "output_type": "stream",
     "text": [
      "1\n",
      "2\n",
      "3\n",
      "4\n",
      "5\n",
      "6\n",
      "7\n",
      "8\n",
      "9\n"
     ]
    }
   ],
   "source": [
    "# Example: Iterate a nested list\n",
    "\n",
    "list = [[1, 2, 3],[4, 5, 6],[7, 8, 9]]\n",
    "for sublist in list:\n",
    "    for number in sublist:\n",
    "        print(number)\n",
    "# 1 2 3 4 5 6 7 8 9"
   ]
  },
  {
   "cell_type": "markdown",
   "metadata": {},
   "source": [
    "# Access Index in for Loop"
   ]
  },
  {
   "cell_type": "code",
   "execution_count": 20,
   "metadata": {},
   "outputs": [
    {
     "name": "stdout",
     "output_type": "stream",
     "text": [
      "0 red\n",
      "1 green\n",
      "2 blue\n"
     ]
    }
   ],
   "source": [
    "# Example: Access index in for loop with range() and len()\n",
    "\n",
    "colors = ['red', 'green', 'blue']\n",
    "for index in range(len(colors)):\n",
    "    print(index, colors[index])\n",
    "# 0 red\n",
    "# 1 green\n",
    "# 2 blue"
   ]
  },
  {
   "cell_type": "code",
   "execution_count": 21,
   "metadata": {},
   "outputs": [
    {
     "name": "stdout",
     "output_type": "stream",
     "text": [
      "0 red\n",
      "1 green\n",
      "2 blue\n"
     ]
    }
   ],
   "source": [
    "# Example: Access index in for loop with enumerate()\n",
    "\n",
    "colors = ['red', 'green', 'blue']\n",
    "for index, value in enumerate(colors):\n",
    "    print(index, value)\n",
    "# 0 red\n",
    "# 1 green\n",
    "# 2 blue"
   ]
  },
  {
   "cell_type": "markdown",
   "metadata": {},
   "source": [
    "# Unpacking in a for loop"
   ]
  },
  {
   "cell_type": "code",
   "execution_count": 23,
   "metadata": {},
   "outputs": [
    {
     "name": "stdout",
     "output_type": "stream",
     "text": [
      "1 2\n",
      "3 4\n",
      "5 6\n"
     ]
    }
   ],
   "source": [
    "# Example: Tuple unpacking in for loop\n",
    "\n",
    "T = [(1, 2), (3, 4), (5, 6)]\n",
    "for (a, b) in T:\n",
    "    print(a, b)\n",
    "# 1 2\n",
    "# 3 4\n",
    "# 5 6"
   ]
  },
  {
   "cell_type": "code",
   "execution_count": 24,
   "metadata": {},
   "outputs": [
    {
     "name": "stdout",
     "output_type": "stream",
     "text": [
      "name Bob\n",
      "age 25\n"
     ]
    }
   ],
   "source": [
    "# Example: Dictionary unpacking in for loop\n",
    "\n",
    "D = {'name': 'Bob', 'age': 25}\n",
    "for x, y in D.items():\n",
    "\tprint(x, y)\n",
    "# age 25\n",
    "# name Bob"
   ]
  },
  {
   "cell_type": "markdown",
   "metadata": {},
   "source": [
    "# Modify List While Iterating"
   ]
  },
  {
   "cell_type": "code",
   "execution_count": 26,
   "metadata": {},
   "outputs": [
    {
     "name": "stdout",
     "output_type": "stream",
     "text": [
      "['orange', 'red', 'green', 'blue']\n"
     ]
    }
   ],
   "source": [
    "colors = ['red', 'green', 'blue']\n",
    "for x in colors[:]:\n",
    "\tif x == 'red':\n",
    "\t\tcolors.insert(0, 'orange')\n",
    "print(colors)\n",
    "# ['orange', 'red', 'green', 'blue']"
   ]
  },
  {
   "cell_type": "markdown",
   "metadata": {},
   "source": [
    "# Looping Through Multiple Lists"
   ]
  },
  {
   "cell_type": "code",
   "execution_count": 28,
   "metadata": {},
   "outputs": [
    {
     "name": "stdout",
     "output_type": "stream",
     "text": [
      "Bob 25\n",
      "Sam 35\n",
      "Max 30\n"
     ]
    }
   ],
   "source": [
    "# Example: Loop through two lists at once\n",
    "\n",
    "name = ['Bob', 'Sam', 'Max']\n",
    "age = [25, 35, 30]\n",
    "for x, y in zip(name, age):\n",
    "    print(x, y)\n",
    "# Bob 25\n",
    "# Sam 35\n",
    "# Max 30"
   ]
  },
  {
   "cell_type": "code",
   "execution_count": null,
   "metadata": {},
   "outputs": [],
   "source": []
  }
 ],
 "metadata": {
  "kernelspec": {
   "display_name": "Python 3",
   "language": "python",
   "name": "python3"
  },
  "language_info": {
   "codemirror_mode": {
    "name": "ipython",
    "version": 3
   },
   "file_extension": ".py",
   "mimetype": "text/x-python",
   "name": "python",
   "nbconvert_exporter": "python",
   "pygments_lexer": "ipython3",
   "version": "3.7.5"
  }
 },
 "nbformat": 4,
 "nbformat_minor": 4
}
