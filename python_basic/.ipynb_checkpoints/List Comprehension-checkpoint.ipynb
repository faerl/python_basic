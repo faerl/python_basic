{
 "cells": [
  {
   "cell_type": "markdown",
   "metadata": {},
   "source": [
    "* List comprehension is a way to build a new list by applying an expression to each item in an iterable.\n",
    "\n",
    "![](http://q1iy2kgp2.bkt.clouddn.com/2019-12-06-094635.png)\n",
    "\n",
    "![](http://q1iy2kgp2.bkt.clouddn.com/2019-12-06-094717.png)"
   ]
  },
  {
   "cell_type": "code",
   "execution_count": 1,
   "metadata": {},
   "outputs": [
    {
     "name": "stdout",
     "output_type": "stream",
     "text": [
      "[0, 1, 4, 9, 16]\n"
     ]
    }
   ],
   "source": [
    "L = [x**2 for x in range(5)]\n",
    "print(L)    # [0, 1, 4, 9, 16]"
   ]
  },
  {
   "cell_type": "code",
   "execution_count": 2,
   "metadata": {},
   "outputs": [
    {
     "name": "stdout",
     "output_type": "stream",
     "text": [
      "['RRR', 'EEE', 'DDD']\n"
     ]
    }
   ],
   "source": [
    "L = [x*3 for x in 'RED']\n",
    "print(L)    # ['RRR', 'EEE', 'DDD']"
   ]
  },
  {
   "cell_type": "code",
   "execution_count": 3,
   "metadata": {},
   "outputs": [
    {
     "name": "stdout",
     "output_type": "stream",
     "text": [
      "[4, 2, 0, 2, 4]\n"
     ]
    }
   ],
   "source": [
    "vec = [-4, -2, 0, 2, 4]\n",
    "L = [abs(x) for x in vec]\n",
    "print(L)    # [4, 2, 0, 2, 4]"
   ]
  },
  {
   "cell_type": "code",
   "execution_count": 4,
   "metadata": {},
   "outputs": [
    {
     "name": "stdout",
     "output_type": "stream",
     "text": [
      "['red', 'green', 'blue']\n"
     ]
    }
   ],
   "source": [
    "colors = ['  red', '  green ', 'blue  ']\n",
    "L = [color.strip() for color in colors]\n",
    "print(L)    # ['red', 'green', 'blue']"
   ]
  },
  {
   "cell_type": "code",
   "execution_count": 3,
   "metadata": {},
   "outputs": [
    {
     "name": "stdout",
     "output_type": "stream",
     "text": [
      "[(0, 0), (1, 1), (2, 4), (3, 9)]\n"
     ]
    }
   ],
   "source": [
    "L = [(x, x**2) for x in range(4)]\n",
    "print(L)\t# [(0, 0), (1, 1), (2, 4), (3, 9)]"
   ]
  },
  {
   "cell_type": "markdown",
   "metadata": {},
   "source": [
    "### List Comprehension with if Clause\n",
    "* A list comprehension may have an optional associated if clause to filter items out of the result.\n",
    "* Iterable’s items are skipped for which the if clause is not true.\n",
    "![](http://q1iy2kgp2.bkt.clouddn.com/2019-12-06-094907.png)"
   ]
  },
  {
   "cell_type": "code",
   "execution_count": 6,
   "metadata": {},
   "outputs": [
    {
     "name": "stdout",
     "output_type": "stream",
     "text": [
      "[0, 2, 4]\n"
     ]
    }
   ],
   "source": [
    "vec = [-4, -2, 0, 2, 4]\n",
    "L = [x for x in vec if x >= 0]\n",
    "print(L)    # [0, 2, 4]"
   ]
  },
  {
   "cell_type": "markdown",
   "metadata": {},
   "source": [
    "# Nested List Comprehensions\n",
    "* The initial expression in a list comprehension can be any expression, including another list comprehension.\n",
    "![](http://q1iy2kgp2.bkt.clouddn.com/2019-12-06-095057.png)"
   ]
  },
  {
   "cell_type": "code",
   "execution_count": 1,
   "metadata": {},
   "outputs": [
    {
     "name": "stdout",
     "output_type": "stream",
     "text": [
      "[1, 2, 3, 4, 5, 6, 7, 8, 9]\n"
     ]
    }
   ],
   "source": [
    "# Example: Flatten a nested list with list comprehension\n",
    "\n",
    "vector = [[1, 2, 3], [4, 5, 6], [7, 8, 9]]\n",
    "\n",
    "L = [number for list in vector for number in list]\n",
    "print(L)\t# [1, 2, 3, 4, 5, 6, 7, 8, 9]"
   ]
  },
  {
   "cell_type": "code",
   "execution_count": 3,
   "metadata": {},
   "outputs": [
    {
     "name": "stdout",
     "output_type": "stream",
     "text": [
      "[[1, 4, 7], [2, 5, 8], [3, 6, 9]]\n"
     ]
    }
   ],
   "source": [
    "# Example: Transpose a matrix with list comprehension\n",
    "\n",
    "matrix = [[1, 2, 3],\n",
    "          [4, 5, 6],\n",
    "          [7, 8, 9]]\n",
    "\n",
    "L = [[row[i] for row in matrix] for i in range(3)]\n",
    "\n",
    "print(L)\t# [[1, 4, 7], [2, 5, 8], [3, 6, 9]]"
   ]
  },
  {
   "cell_type": "code",
   "execution_count": null,
   "metadata": {},
   "outputs": [],
   "source": []
  }
 ],
 "metadata": {
  "kernelspec": {
   "display_name": "Python 3",
   "language": "python",
   "name": "python3"
  },
  "language_info": {
   "codemirror_mode": {
    "name": "ipython",
    "version": 3
   },
   "file_extension": ".py",
   "mimetype": "text/x-python",
   "name": "python",
   "nbconvert_exporter": "python",
   "pygments_lexer": "ipython3",
   "version": "3.7.5"
  }
 },
 "nbformat": 4,
 "nbformat_minor": 4
}
