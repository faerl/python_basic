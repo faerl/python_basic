{
 "nbformat": 4,
 "nbformat_minor": 2,
 "metadata": {
  "language_info": {
   "name": "python",
   "codemirror_mode": {
    "name": "ipython",
    "version": 3
   },
   "version": "3.7.4"
  },
  "orig_nbformat": 2,
  "file_extension": ".py",
  "mimetype": "text/x-python",
  "name": "python",
  "npconvert_exporter": "python",
  "pygments_lexer": "ipython3",
  "version": 3
 },
 "cells": [
  {
   "cell_type": "markdown",
   "metadata": {},
   "outputs": [],
   "source": [
    "# list.append(item)\n",
    "Appends an item to a list\n",
    "* 没有返回值\n",
    "* 即刻修改原始列表"
   ]
  },
  {
   "cell_type": "code",
   "execution_count": 37,
   "metadata": {},
   "outputs": [
    {
     "name": "stdout",
     "output_type": "stream",
     "text": "['red', 'green', 'blue', 'yellow']\n"
    }
   ],
   "source": [
    "# 添加项，到列表末尾\n",
    "L = ['red', 'green', 'blue']\n",
    "L.append('yellow')\n",
    "print(L)    # ['red', 'green', 'blue', 'yellow']"
   ]
  },
  {
   "cell_type": "code",
   "execution_count": 33,
   "metadata": {},
   "outputs": [
    {
     "name": "stdout",
     "output_type": "stream",
     "text": "['red', 'green', 'blue', [1, 2, 3]]\n"
    }
   ],
   "source": [
    "# 添加列表项，到列表末尾\n",
    "L = ['red', 'green', 'blue']\n",
    "L.append([1,2,3])\n",
    "print(L)    # ['red', 'green', 'blue', [1, 2, 3]]"
   ]
  },
  {
   "cell_type": "code",
   "execution_count": 34,
   "metadata": {},
   "outputs": [
    {
     "name": "stdout",
     "output_type": "stream",
     "text": "['red', 'green', 'blue', (1, 2, 3)]\n"
    }
   ],
   "source": [
    "# 添加元组，到列表末尾\n",
    "L = ['red', 'green', 'blue']\n",
    "L.append((1,2,3))\n",
    "print(L)    # ['red', 'green', 'blue', (1, 2, 3)]"
   ]
  },
  {
   "cell_type": "markdown",
   "metadata": {},
   "outputs": [],
   "source": [
    "# list.extend(iterable)\n",
    "Extends a list with the items from an iterable\n",
    "* 没有返回值\n",
    "* 即刻修改原始列表"
   ]
  },
  {
   "cell_type": "code",
   "execution_count": 38,
   "metadata": {},
   "outputs": [
    {
     "name": "stdout",
     "output_type": "stream",
     "text": "['red', 'green', 'blue', 1, 2, 3]\n"
    }
   ],
   "source": [
    "L = ['red', 'green', 'blue']\n",
    "L.extend([1,2,3])\n",
    "print(L)    # ['red', 'green', 'blue', 1, 2, 3]"
   ]
  },
  {
   "cell_type": "code",
   "metadata": {},
   "outputs": [],
   "source": [
    "L = ['red', 'green', 'blue']\n",
    "L[len(L):] = [1,2,3]\n",
    "print(L)    # ['red', 'green', 'blue', 1, 2, 3]"
   ]
  },
  {
   "cell_type": "code",
   "metadata": {},
   "outputs": [],
   "source": [
    "L = ['red', 'green', 'blue']\n",
    "L += [1,2,3]\n",
    "print(L)    # ['red', 'green', 'blue', 1, 2, 3]"
   ]
  },
  {
   "cell_type": "markdown",
   "metadata": {},
   "outputs": [],
   "source": [
    "# list.copy()\n",
    "Copies the list shallowly"
   ]
  },
  {
   "cell_type": "code",
   "execution_count": 42,
   "metadata": {},
   "outputs": [
    {
     "name": "stdout",
     "output_type": "stream",
     "text": "['red', 'green', 'blue']\n4621248544\n4620223744\n"
    }
   ],
   "source": [
    "L = ['red', 'green', 'blue']\n",
    "X = L.copy()\n",
    "print(X)\n",
    "print(id(L))\n",
    "print(id(X))"
   ]
  },
  {
   "cell_type": "code",
   "execution_count": 43,
   "metadata": {},
   "outputs": [
    {
     "name": "stdout",
     "output_type": "stream",
     "text": "['red', 'green', 'blue']\n4614451440\n4621248064\n"
    }
   ],
   "source": [
    "L = ['red', 'green', 'blue']\n",
    "X = L[:]\n",
    "print(X)    # ['red', 'green', 'blue']\n",
    "print(id(L))\n",
    "print(id(X))"
   ]
  },
  {
   "cell_type": "code",
   "execution_count": null,
   "metadata": {},
   "outputs": [],
   "source": []
  }
 ]
}