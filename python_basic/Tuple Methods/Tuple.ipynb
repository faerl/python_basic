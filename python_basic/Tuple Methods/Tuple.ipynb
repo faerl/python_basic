{
 "cells": [
  {
   "cell_type": "markdown",
   "metadata": {},
   "source": [
    "# tuple.count(item)\n",
    "\n",
    "Counts the number of occurrences of an item"
   ]
  },
  {
   "cell_type": "code",
   "execution_count": 1,
   "metadata": {},
   "outputs": [
    {
     "name": "stdout",
     "output_type": "stream",
     "text": [
      "1\n",
      "3\n"
     ]
    }
   ],
   "source": [
    "# Example: Count the number of occurrences of ‘red’\n",
    "\n",
    "T = ('red', 'green', 'blue')\n",
    "print(T.count('red'))\t# 1\n",
    "\n",
    "#Example: Count the number of occurrences of number ‘9’\n",
    "\n",
    "T = (1, 9, 7, 3, 9, 1, 9, 2)\n",
    "print(T.count(9))\t# 3"
   ]
  },
  {
   "cell_type": "markdown",
   "metadata": {},
   "source": [
    "### Count Multiple Items"
   ]
  },
  {
   "cell_type": "code",
   "execution_count": 2,
   "metadata": {},
   "outputs": [
    {
     "name": "stdout",
     "output_type": "stream",
     "text": [
      "Counter({'a': 4, 'b': 2, 'c': 1})\n"
     ]
    }
   ],
   "source": [
    "# Example: Count occurrences of all the unique items\n",
    "\n",
    "T = ('a', 'b', 'c', 'b', 'a', 'a', 'a')\n",
    "from collections import Counter\n",
    "print(Counter(T))    # Counter({'a': 4, 'b': 2, 'c': 1})"
   ]
  },
  {
   "cell_type": "markdown",
   "metadata": {},
   "source": [
    "# tuple.index(item,start,end)"
   ]
  },
  {
   "cell_type": "code",
   "execution_count": 3,
   "metadata": {},
   "outputs": [
    {
     "name": "stdout",
     "output_type": "stream",
     "text": [
      "1\n"
     ]
    }
   ],
   "source": [
    "# Example: Find index of ‘green’ in a tuple\n",
    "\n",
    "T = ('red', 'green', 'blue', 'yellow')\n",
    "print(T.index('green'))    # 1"
   ]
  },
  {
   "cell_type": "markdown",
   "metadata": {},
   "source": [
    "### If the tuple has many instances of the specified item, the index() method returns the index of first instance only."
   ]
  },
  {
   "cell_type": "code",
   "execution_count": 5,
   "metadata": {},
   "outputs": [
    {
     "name": "stdout",
     "output_type": "stream",
     "text": [
      "2\n"
     ]
    }
   ],
   "source": [
    "# Example: Find first occurrence of character ‘c’\n",
    "\n",
    "T = ('a','b','c','d','e','f','a','b','c','d','e','f')\n",
    "print(T.index('c'))\t\t# 2"
   ]
  },
  {
   "cell_type": "markdown",
   "metadata": {},
   "source": [
    "### Limit index() Search to Subsequence"
   ]
  },
  {
   "cell_type": "code",
   "execution_count": 6,
   "metadata": {},
   "outputs": [
    {
     "name": "stdout",
     "output_type": "stream",
     "text": [
      "8\n",
      "8\n"
     ]
    }
   ],
   "source": [
    "# Example: Find ‘c’ starting a position 5\n",
    "\n",
    "T = ('a','b','c','d','e','f','a','b','c','d','e','f')\n",
    "print(T.index('c',5))\t\t# 8\n",
    "\n",
    "# Example: Find ‘c’ in between 5 & 10\n",
    "\n",
    "T = ('a','b','c','d','e','f','a','b','c','d','e','f')\n",
    "print(T.index('c',5,10))\t# 8"
   ]
  },
  {
   "cell_type": "markdown",
   "metadata": {},
   "source": [
    "### index() method raises a ‘ValueError’ if specified item is not found in the tuple."
   ]
  },
  {
   "cell_type": "code",
   "execution_count": 8,
   "metadata": {},
   "outputs": [],
   "source": [
    "# Example: Checking if item ‘x’ exists before using index()\n",
    "\n",
    "T = ('a','b','c','d','e','f','a','b','c','d','e','f')\n",
    "if 'x' in T:\n",
    "    print(T.index('x'))"
   ]
  },
  {
   "cell_type": "code",
   "execution_count": null,
   "metadata": {},
   "outputs": [],
   "source": []
  }
 ],
 "metadata": {
  "kernelspec": {
   "display_name": "Python 3",
   "language": "python",
   "name": "python3"
  },
  "language_info": {
   "codemirror_mode": {
    "name": "ipython",
    "version": 3
   },
   "file_extension": ".py",
   "mimetype": "text/x-python",
   "name": "python",
   "nbconvert_exporter": "python",
   "pygments_lexer": "ipython3",
   "version": "3.7.5"
  }
 },
 "nbformat": 4,
 "nbformat_minor": 4
}
