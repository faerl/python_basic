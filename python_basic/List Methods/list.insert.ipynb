{
 "cells": [
  {
   "cell_type": "markdown",
   "metadata": {},
   "source": [
    "# list.insert(index,item)\n",
    "Inserts an item into a list at specified position"
   ]
  },
  {
   "cell_type": "code",
   "execution_count": 12,
   "metadata": {},
   "outputs": [
    {
     "name": "stdout",
     "output_type": "stream",
     "text": [
      "['red', 'yellow', 'green', 'blue']\n"
     ]
    }
   ],
   "source": [
    "# Example: Insert ‘yellow’ at 2nd position\n",
    "L = ['red', 'green', 'blue']\n",
    "L.insert(1,'yellow')\n",
    "print(L)    # ['red', 'yellow', 'green', 'blue']"
   ]
  },
  {
   "cell_type": "code",
   "execution_count": 13,
   "metadata": {},
   "outputs": [
    {
     "name": "stdout",
     "output_type": "stream",
     "text": [
      "['red', 'yellow', 'green', 'blue']\n"
     ]
    }
   ],
   "source": [
    "# Example: Insert ‘yellow’ at 2nd position with Negative indexing\n",
    "L = ['red', 'green', 'blue']\n",
    "L.insert(-2,'yellow')\n",
    "print(L)    # ['red', 'yellow', 'green', 'blue']"
   ]
  },
  {
   "cell_type": "code",
   "execution_count": 14,
   "metadata": {},
   "outputs": [
    {
     "name": "stdout",
     "output_type": "stream",
     "text": [
      "['red', 'green', 'blue', 'yellow']\n"
     ]
    }
   ],
   "source": [
    "# Example: Index greater than list length inserts item at the end\n",
    "# 超过最大长度，不会报错，而是追加到列表末尾\n",
    "L = ['red', 'green', 'blue']\n",
    "L.insert(10,'yellow')\n",
    "print(L)    # ['red', 'green', 'blue', 'yellow']"
   ]
  },
  {
   "cell_type": "code",
   "execution_count": null,
   "metadata": {},
   "outputs": [],
   "source": [
    "# insert() vs append()\n",
    "# 2种写法，结果一样\n",
    "L = ['red', 'green', 'blue']\n",
    "L.insert(len(L),'yellow')\n",
    "print(L)    # ['red', 'green', 'blue', 'yellow']\n",
    "\n",
    "L.append('yellow')"
   ]
  },
  {
   "cell_type": "code",
   "execution_count": null,
   "metadata": {},
   "outputs": [],
   "source": []
  }
 ],
 "metadata": {
  "kernelspec": {
   "display_name": "Python 3",
   "language": "python",
   "name": "python3"
  },
  "language_info": {
   "codemirror_mode": {
    "name": "ipython",
    "version": 3
   },
   "file_extension": ".py",
   "mimetype": "text/x-python",
   "name": "python",
   "nbconvert_exporter": "python",
   "pygments_lexer": "ipython3",
   "version": "3.7.5"
  }
 },
 "nbformat": 4,
 "nbformat_minor": 4
}
