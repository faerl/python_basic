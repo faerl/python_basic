{
 "cells": [
  {
   "cell_type": "markdown",
   "metadata": {},
   "source": [
    "# list.sort(key,reverse)\n",
    "Sorts the items of the list"
   ]
  },
  {
   "cell_type": "code",
   "execution_count": 29,
   "metadata": {},
   "outputs": [
    {
     "name": "stdout",
     "output_type": "stream",
     "text": [
      "['blue', 'green', 'orange', 'red']\n"
     ]
    }
   ],
   "source": [
    "# Example: Sort the list of strings\n",
    "\n",
    "L = ['red', 'green', 'blue', 'orange']\n",
    "L.sort()\n",
    "print(L)    # ['blue', 'green', 'orange', 'red']"
   ]
  },
  {
   "cell_type": "markdown",
   "metadata": {},
   "source": [
    "### Sort List in Reverse Order"
   ]
  },
  {
   "cell_type": "code",
   "execution_count": 30,
   "metadata": {},
   "outputs": [
    {
     "name": "stdout",
     "output_type": "stream",
     "text": [
      "['red', 'orange', 'green', 'blue']\n"
     ]
    }
   ],
   "source": [
    "# Example: Sort list in reverse order\n",
    "L = ['red', 'green', 'blue', 'orange']\n",
    "L.sort(reverse=True)\n",
    "print(L)    # ['red', 'orange', 'green', 'blue']"
   ]
  },
  {
   "cell_type": "markdown",
   "metadata": {},
   "source": [
    "### Sort with Key"
   ]
  },
  {
   "cell_type": "code",
   "execution_count": 31,
   "metadata": {},
   "outputs": [
    {
     "name": "stdout",
     "output_type": "stream",
     "text": [
      "['red', 'blue', 'green', 'orange']\n"
     ]
    }
   ],
   "source": [
    "# Example: Sort a list by the length of the items\n",
    "\n",
    "L = ['red', 'green', 'blue', 'orange']\n",
    "L.sort(key=len)\n",
    "print(L)    # ['red', 'blue', 'green', 'orange']"
   ]
  },
  {
   "cell_type": "markdown",
   "metadata": {},
   "source": [
    "### Sort with Custom Function"
   ]
  },
  {
   "cell_type": "code",
   "execution_count": 32,
   "metadata": {},
   "outputs": [
    {
     "name": "stdout",
     "output_type": "stream",
     "text": [
      "[{'name': 'Max', 'age': 25}, {'name': 'Bob', 'age': 30}, {'name': 'Sam', 'age': 35}]\n"
     ]
    }
   ],
   "source": [
    "# Example: Sort a list of dictionaries based on the age of students\n",
    "\n",
    "def myFunc(e):\n",
    "    return e['age']\t\t# return age\n",
    "\n",
    "L = [{'name': 'Bob', 'age': 30},\n",
    "     {'name': 'Sam', 'age': 35},\n",
    "     {'name': 'Max', 'age': 25}]\n",
    "L.sort(key=myFunc)\n",
    "print(L)\n",
    "# [{'age': 25, 'name': 'Max'}, {'age': 30, 'name': 'Bob'}, {'age': 35, 'name': 'Sam'}]"
   ]
  },
  {
   "cell_type": "markdown",
   "metadata": {},
   "source": [
    "### Case-insensitive Sorting"
   ]
  },
  {
   "cell_type": "code",
   "execution_count": 33,
   "metadata": {},
   "outputs": [
    {
     "name": "stdout",
     "output_type": "stream",
     "text": [
      "['blue', 'Green', 'orange', 'Red']\n"
     ]
    }
   ],
   "source": [
    "# Example: Sort list case-insensitive\n",
    "\n",
    "L = ['Red', 'Green', 'blue', 'orange']\n",
    "L.sort(key=str.lower)\n",
    "print(L)    # ['blue', 'Green', 'orange', 'Red']"
   ]
  },
  {
   "cell_type": "markdown",
   "metadata": {},
   "source": [
    "### sort() vs sorted()"
   ]
  },
  {
   "cell_type": "code",
   "execution_count": null,
   "metadata": {},
   "outputs": [],
   "source": [
    "# Example: Get a sorted copy of the list with sorted()\n",
    "\n",
    "L = ['red', 'green', 'blue', 'orange']\n",
    "x = sorted(L)\n",
    "print(x)    # ['blue', 'green', 'orange', 'red']"
   ]
  },
  {
   "cell_type": "code",
   "execution_count": null,
   "metadata": {},
   "outputs": [],
   "source": [
    "# Example: Iterate through a sorted list without changing the original\n",
    "\n",
    "L = ['red', 'green', 'blue', 'orange']\n",
    "for x in sorted(L):\n",
    "    print x\n",
    "# blue green orange red"
   ]
  },
  {
   "cell_type": "code",
   "execution_count": null,
   "metadata": {},
   "outputs": [],
   "source": []
  }
 ],
 "metadata": {
  "kernelspec": {
   "display_name": "Python 3",
   "language": "python",
   "name": "python3"
  },
  "language_info": {
   "codemirror_mode": {
    "name": "ipython",
    "version": 3
   },
   "file_extension": ".py",
   "mimetype": "text/x-python",
   "name": "python",
   "nbconvert_exporter": "python",
   "pygments_lexer": "ipython3",
   "version": "3.7.5"
  }
 },
 "nbformat": 4,
 "nbformat_minor": 4
}
