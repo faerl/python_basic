{
 "cells": [
  {
   "cell_type": "markdown",
   "metadata": {},
   "source": [
    "# list.append(item)\n",
    "Appends an item to a list"
   ]
  },
  {
   "cell_type": "code",
   "execution_count": null,
   "metadata": {},
   "outputs": [],
   "source": [
    "# 添加项，到列表末尾\n",
    "L = ['red', 'green', 'blue']\n",
    "L.append('yellow')\n",
    "print(L)    # ['red', 'green', 'blue', 'yellow']"
   ]
  },
  {
   "cell_type": "code",
   "execution_count": null,
   "metadata": {},
   "outputs": [],
   "source": [
    "# 添加列表项，到列表末尾\n",
    "L = ['red', 'green', 'blue']\n",
    "L.append([1,2,3])\n",
    "print(L)    # ['red', 'green', 'blue', [1, 2, 3]]"
   ]
  },
  {
   "cell_type": "code",
   "execution_count": null,
   "metadata": {},
   "outputs": [],
   "source": [
    "# 添加元组，到列表末尾\n",
    "L = ['red', 'green', 'blue']\n",
    "L.append((1,2,3))\n",
    "print(L)    # ['red', 'green', 'blue', (1, 2, 3)]"
   ]
  },
  {
   "cell_type": "markdown",
   "metadata": {},
   "source": [
    "# list.extend(iterable)\n",
    "Extends a list with the items from an iterable"
   ]
  },
  {
   "cell_type": "code",
   "execution_count": null,
   "metadata": {},
   "outputs": [],
   "source": [
    "# Example: Add multiple items to a list\n",
    "L = ['red', 'green', 'blue']\n",
    "L.extend([1,2,3])\n",
    "print(L)    # ['red', 'green', 'blue', 1, 2, 3]"
   ]
  },
  {
   "cell_type": "code",
   "execution_count": 1,
   "metadata": {},
   "outputs": [
    {
     "name": "stdout",
     "output_type": "stream",
     "text": [
      "['red', 'green', 'blue', 1, 2, 3]\n"
     ]
    }
   ],
   "source": [
    "# Example: Add tuple items to a list\n",
    "L = ['red', 'green', 'blue']\n",
    "L.extend((1,2,3))\n",
    "print(L)    # ['red', 'green', 'blue', 1, 2, 3]"
   ]
  },
  {
   "cell_type": "code",
   "execution_count": 2,
   "metadata": {},
   "outputs": [
    {
     "name": "stdout",
     "output_type": "stream",
     "text": [
      "['red', 'green', 'blue', 1, 2, 3]\n"
     ]
    }
   ],
   "source": [
    "# Example: Add set items to a list\n",
    "L = ['red', 'green', 'blue']\n",
    "L.extend({1,2,3})\n",
    "print(L)  # ['red', 'green', 'blue', 1, 2, 3]"
   ]
  },
  {
   "cell_type": "code",
   "execution_count": null,
   "metadata": {},
   "outputs": [],
   "source": [
    "L = ['red', 'green', 'blue']\n",
    "L[len(L):] = [1,2,3]\n",
    "print(L)    # ['red', 'green', 'blue', 1, 2, 3]"
   ]
  },
  {
   "cell_type": "code",
   "execution_count": null,
   "metadata": {},
   "outputs": [],
   "source": [
    "L = ['red', 'green', 'blue']\n",
    "L += [1,2,3]\n",
    "print(L)    # ['red', 'green', 'blue', 1, 2, 3]"
   ]
  },
  {
   "cell_type": "markdown",
   "metadata": {},
   "source": [
    "# list.copy()\n",
    "Copies the list shallowly"
   ]
  },
  {
   "cell_type": "code",
   "execution_count": null,
   "metadata": {},
   "outputs": [],
   "source": [
    "L = ['red', 'green', 'blue']\n",
    "X = L.copy()\n",
    "print(X)\n",
    "print(id(L))\n",
    "print(id(X))"
   ]
  },
  {
   "cell_type": "code",
   "execution_count": null,
   "metadata": {},
   "outputs": [],
   "source": [
    "L = ['red', 'green', 'blue']\n",
    "X = L[:]\n",
    "print(X)    # ['red', 'green', 'blue']\n",
    "print(id(L))\n",
    "print(id(X))"
   ]
  },
  {
   "cell_type": "markdown",
   "metadata": {},
   "source": [
    "# list.clear()\n",
    "Removes all items from the list"
   ]
  },
  {
   "cell_type": "code",
   "execution_count": 3,
   "metadata": {},
   "outputs": [
    {
     "name": "stdout",
     "output_type": "stream",
     "text": [
      "[]\n"
     ]
    }
   ],
   "source": [
    "# Example: Clear the list\n",
    "L = ['red', 'green', 'blue']\n",
    "L.clear()\n",
    "print(L)\t# []"
   ]
  },
  {
   "cell_type": "code",
   "execution_count": null,
   "metadata": {},
   "outputs": [],
   "source": [
    "L = ['red', 'green', 'blue']\n",
    "del L[:]\n",
    "print(L)    # []"
   ]
  },
  {
   "cell_type": "code",
   "execution_count": null,
   "metadata": {},
   "outputs": [],
   "source": [
    "L = ['red', 'green', 'blue']\n",
    "L[:] = []\n",
    "print(L)    # []"
   ]
  },
  {
   "cell_type": "code",
   "execution_count": 4,
   "metadata": {},
   "outputs": [
    {
     "name": "stdout",
     "output_type": "stream",
     "text": [
      "[]\n"
     ]
    }
   ],
   "source": [
    "# Multiplying 0 to a list using multiplication assignment operator will remove all items from the list in place.\n",
    "L = ['red', 'green', 'blue']\n",
    "L *= 0\n",
    "print(L)    # []"
   ]
  },
  {
   "cell_type": "markdown",
   "metadata": {},
   "source": [
    "# list.count(item)\n",
    "Counts the number of occurrences of an item"
   ]
  },
  {
   "cell_type": "code",
   "execution_count": null,
   "metadata": {},
   "outputs": [],
   "source": [
    "# Example: Count number of occurrences of ‘red’\n",
    "L = ['red', 'green', 'blue']\n",
    "print(L.count('red'))\t# 1"
   ]
  },
  {
   "cell_type": "code",
   "execution_count": null,
   "metadata": {},
   "outputs": [],
   "source": [
    "# Example: Count number of occurrences of number ‘9’\n",
    "L = [1, 9, 7, 3, 9, 1, 9, 2]\n",
    "print(L.count(9))\t# 3"
   ]
  },
  {
   "cell_type": "code",
   "execution_count": 5,
   "metadata": {},
   "outputs": [
    {
     "name": "stdout",
     "output_type": "stream",
     "text": [
      "Counter({'a': 4, 'b': 2, 'c': 1})\n"
     ]
    }
   ],
   "source": [
    "# Count Multiple Items\n",
    "L = ['a', 'b', 'c', 'b', 'a', 'a', 'a']\n",
    "from collections import Counter\n",
    "print(Counter(L))    # Counter({'a': 4, 'b': 2, 'c': 1})"
   ]
  },
  {
   "cell_type": "markdown",
   "metadata": {},
   "source": [
    "# list.index(item,start,end)\n",
    "Searches the list for a given item"
   ]
  },
  {
   "cell_type": "code",
   "execution_count": 6,
   "metadata": {},
   "outputs": [
    {
     "name": "stdout",
     "output_type": "stream",
     "text": [
      "1\n"
     ]
    }
   ],
   "source": [
    "# Example: Find the index of ‘green’ in a list\n",
    "L = ['red', 'green', 'blue', 'yellow']\n",
    "print(L.index('green'))    # 1"
   ]
  },
  {
   "cell_type": "code",
   "execution_count": null,
   "metadata": {},
   "outputs": [],
   "source": [
    "# Example: Find first occurrence of character ‘c’\n",
    "# 指匹配第一个\n",
    "L = ['a','b','c','d','e','f','a','b','c','d','e','f']\n",
    "print(L.index('c'))\t\t# 2"
   ]
  },
  {
   "cell_type": "code",
   "execution_count": null,
   "metadata": {},
   "outputs": [],
   "source": [
    "# Example: Find ‘c’ starting a position 5\n",
    "# 指定搜索范围，从索引5开始，到结尾\n",
    "L = ['a','b','c','d','e','f','a','b','c','d','e','f']\n",
    "print(L.index('c',5))\t\t# 8"
   ]
  },
  {
   "cell_type": "code",
   "execution_count": 7,
   "metadata": {},
   "outputs": [
    {
     "name": "stdout",
     "output_type": "stream",
     "text": [
      "8\n"
     ]
    }
   ],
   "source": [
    "# Example: Find ‘c’ in between 5 & 10\n",
    "L = ['a','b','c','d','e','f','a','b','c','d','e','f']\n",
    "print(L.index('c',5,10))\t# 8"
   ]
  },
  {
   "cell_type": "markdown",
   "metadata": {},
   "source": [
    "## index() on Item that Doesn’t Exist\n",
    "\n",
    "index() method raises a ‘ValueError’ if specified item is not found in the list."
   ]
  },
  {
   "cell_type": "code",
   "execution_count": 8,
   "metadata": {},
   "outputs": [
    {
     "ename": "ValueError",
     "evalue": "'x' is not in list",
     "output_type": "error",
     "traceback": [
      "\u001b[0;31m---------------------------------------------------------------------------\u001b[0m",
      "\u001b[0;31mValueError\u001b[0m                                Traceback (most recent call last)",
      "\u001b[0;32m<ipython-input-8-ca004d92037b>\u001b[0m in \u001b[0;36m<module>\u001b[0;34m\u001b[0m\n\u001b[1;32m      3\u001b[0m \u001b[0;31m#ValueError: 'x' is not in list\u001b[0m\u001b[0;34m\u001b[0m\u001b[0;34m\u001b[0m\u001b[0;34m\u001b[0m\u001b[0m\n\u001b[1;32m      4\u001b[0m \u001b[0mL\u001b[0m \u001b[0;34m=\u001b[0m \u001b[0;34m[\u001b[0m\u001b[0;34m'a'\u001b[0m\u001b[0;34m,\u001b[0m\u001b[0;34m'b'\u001b[0m\u001b[0;34m,\u001b[0m\u001b[0;34m'c'\u001b[0m\u001b[0;34m,\u001b[0m\u001b[0;34m'd'\u001b[0m\u001b[0;34m,\u001b[0m\u001b[0;34m'e'\u001b[0m\u001b[0;34m,\u001b[0m\u001b[0;34m'f'\u001b[0m\u001b[0;34m,\u001b[0m\u001b[0;34m'a'\u001b[0m\u001b[0;34m,\u001b[0m\u001b[0;34m'b'\u001b[0m\u001b[0;34m,\u001b[0m\u001b[0;34m'c'\u001b[0m\u001b[0;34m,\u001b[0m\u001b[0;34m'd'\u001b[0m\u001b[0;34m,\u001b[0m\u001b[0;34m'e'\u001b[0m\u001b[0;34m,\u001b[0m\u001b[0;34m'f'\u001b[0m\u001b[0;34m]\u001b[0m\u001b[0;34m\u001b[0m\u001b[0;34m\u001b[0m\u001b[0m\n\u001b[0;32m----> 5\u001b[0;31m \u001b[0mprint\u001b[0m\u001b[0;34m(\u001b[0m\u001b[0mL\u001b[0m\u001b[0;34m.\u001b[0m\u001b[0mindex\u001b[0m\u001b[0;34m(\u001b[0m\u001b[0;34m'x'\u001b[0m\u001b[0;34m)\u001b[0m\u001b[0;34m)\u001b[0m\u001b[0;34m\u001b[0m\u001b[0;34m\u001b[0m\u001b[0m\n\u001b[0m",
      "\u001b[0;31mValueError\u001b[0m: 'x' is not in list"
     ]
    }
   ],
   "source": [
    "# Example: index() raises ValueError if no item found\n",
    "\n",
    "#ValueError: 'x' is not in list\n",
    "L = ['a','b','c','d','e','f','a','b','c','d','e','f']\n",
    "print(L.index('x'))"
   ]
  },
  {
   "cell_type": "code",
   "execution_count": 11,
   "metadata": {},
   "outputs": [],
   "source": [
    "# Example: Checking if item ‘x’ exists before using index()\n",
    "L = ['a','b','c','d','e','f','a','b','c','d','e','f']\n",
    "if 'x' in L:\n",
    "    print(L.index('x'))"
   ]
  },
  {
   "cell_type": "markdown",
   "metadata": {},
   "source": [
    "# list.insert(index,item)\n",
    "Inserts an item into a list at specified position"
   ]
  },
  {
   "cell_type": "code",
   "execution_count": 12,
   "metadata": {},
   "outputs": [
    {
     "name": "stdout",
     "output_type": "stream",
     "text": [
      "['red', 'yellow', 'green', 'blue']\n"
     ]
    }
   ],
   "source": [
    "# Example: Insert ‘yellow’ at 2nd position\n",
    "L = ['red', 'green', 'blue']\n",
    "L.insert(1,'yellow')\n",
    "print(L)    # ['red', 'yellow', 'green', 'blue']"
   ]
  },
  {
   "cell_type": "code",
   "execution_count": 13,
   "metadata": {},
   "outputs": [
    {
     "name": "stdout",
     "output_type": "stream",
     "text": [
      "['red', 'yellow', 'green', 'blue']\n"
     ]
    }
   ],
   "source": [
    "# Example: Insert ‘yellow’ at 2nd position with Negative indexing\n",
    "L = ['red', 'green', 'blue']\n",
    "L.insert(-2,'yellow')\n",
    "print(L)    # ['red', 'yellow', 'green', 'blue']"
   ]
  },
  {
   "cell_type": "code",
   "execution_count": 14,
   "metadata": {},
   "outputs": [
    {
     "name": "stdout",
     "output_type": "stream",
     "text": [
      "['red', 'green', 'blue', 'yellow']\n"
     ]
    }
   ],
   "source": [
    "# Example: Index greater than list length inserts item at the end\n",
    "# 超过最大长度，不会报错，而是追加到列表末尾\n",
    "L = ['red', 'green', 'blue']\n",
    "L.insert(10,'yellow')\n",
    "print(L)    # ['red', 'green', 'blue', 'yellow']"
   ]
  },
  {
   "cell_type": "code",
   "execution_count": null,
   "metadata": {},
   "outputs": [],
   "source": [
    "# insert() vs append()\n",
    "# 2种写法，结果一样\n",
    "L = ['red', 'green', 'blue']\n",
    "L.insert(len(L),'yellow')\n",
    "print(L)    # ['red', 'green', 'blue', 'yellow']\n",
    "\n",
    "L.append('yellow')"
   ]
  },
  {
   "cell_type": "markdown",
   "metadata": {},
   "source": [
    "# list.pop(index)\n",
    "Removes an item at specified index\n",
    "\n",
    "返回值是弹出的项\n",
    "\n",
    "会报 IndexError"
   ]
  },
  {
   "cell_type": "code",
   "execution_count": null,
   "metadata": {},
   "outputs": [],
   "source": [
    "L = ['red', 'green', 'blue']\n",
    "L.pop(1)\n",
    "print(L)\t# ['red', 'blue']"
   ]
  },
  {
   "cell_type": "code",
   "execution_count": null,
   "metadata": {},
   "outputs": [],
   "source": [
    "L = ['red', 'green', 'blue']\n",
    "L.pop(-2)\n",
    "print(L)\t# ['red', 'blue']"
   ]
  },
  {
   "cell_type": "code",
   "execution_count": 19,
   "metadata": {},
   "outputs": [
    {
     "name": "stdout",
     "output_type": "stream",
     "text": [
      "green\n"
     ]
    }
   ],
   "source": [
    "# Example: Print value of the removed item\n",
    "L = ['red', 'green', 'blue']\n",
    "x = L.pop(1)\n",
    "print(x)    # green"
   ]
  },
  {
   "cell_type": "code",
   "execution_count": null,
   "metadata": {},
   "outputs": [],
   "source": [
    "# Example: Remove last item\n",
    "L = ['red', 'green', 'blue']\n",
    "L.pop()\n",
    "print(L)\t# ['red', 'green']"
   ]
  },
  {
   "cell_type": "markdown",
   "metadata": {},
   "source": [
    "# list.remove(item)\n",
    "\n",
    "Removes an item from a list\n",
    "\n",
    "If specified item is not found, it raises ‘ValueError’ exception."
   ]
  },
  {
   "cell_type": "code",
   "execution_count": null,
   "metadata": {},
   "outputs": [],
   "source": [
    "# Example: Remove ‘green’ from the list\n",
    "\n",
    "L = ['red', 'green', 'blue']\n",
    "L.remove('green')\n",
    "print(L)\t# ['red', 'blue']"
   ]
  },
  {
   "cell_type": "code",
   "execution_count": 20,
   "metadata": {},
   "outputs": [
    {
     "name": "stdout",
     "output_type": "stream",
     "text": [
      "['red', 'green']\n"
     ]
    }
   ],
   "source": [
    "# Example: Remove item from the nested list\n",
    "\n",
    "L = ['red', 'green', [1, 2, 3]]\n",
    "L.remove([1, 2, 3])\n",
    "print(L)\t# ['red', 'green']"
   ]
  },
  {
   "cell_type": "code",
   "execution_count": 21,
   "metadata": {},
   "outputs": [
    {
     "name": "stdout",
     "output_type": "stream",
     "text": [
      "['green', 'blue', 'red', 'red']\n"
     ]
    }
   ],
   "source": [
    "# Example: Remove only first instance of ‘red’\n",
    "# 指移除第一个匹配\n",
    "L = ['red', 'green', 'blue', 'red', 'red']\n",
    "L.remove('red')\n",
    "print(L)\t# ['green', 'blue', 'red', 'red']"
   ]
  },
  {
   "cell_type": "code",
   "execution_count": 22,
   "metadata": {},
   "outputs": [
    {
     "name": "stdout",
     "output_type": "stream",
     "text": [
      "['green', 'blue']\n",
      "['green', 'blue']\n"
     ]
    }
   ],
   "source": [
    "# Example: Remove duplicate items from a list\n",
    "# 移除多个重复项\n",
    "# list comprehension\n",
    "L = ['red', 'green', 'blue', 'red', 'red']\n",
    "L = [x for x in L if x is not 'red']\n",
    "print(L)\t# ['green', 'blue']\n",
    "# lambda expression\n",
    "L = ['red', 'green', 'blue', 'red', 'red']\n",
    "L = list(filter(lambda x: x is not 'red', L))\n",
    "print(L)\t# ['green', 'blue']"
   ]
  },
  {
   "cell_type": "markdown",
   "metadata": {},
   "source": [
    "## remove() method raises an ValueError exception, if specified item doesn’t exist in a list."
   ]
  },
  {
   "cell_type": "code",
   "execution_count": 26,
   "metadata": {},
   "outputs": [
    {
     "ename": "ValueError",
     "evalue": "list.remove(x): x not in list",
     "output_type": "error",
     "traceback": [
      "\u001b[0;31m---------------------------------------------------------------------------\u001b[0m",
      "\u001b[0;31mValueError\u001b[0m                                Traceback (most recent call last)",
      "\u001b[0;32m<ipython-input-26-2bdf9c321dd5>\u001b[0m in \u001b[0;36m<module>\u001b[0;34m\u001b[0m\n\u001b[1;32m      3\u001b[0m \u001b[0;31m# ValueError: list.remove(x): x not in list\u001b[0m\u001b[0;34m\u001b[0m\u001b[0;34m\u001b[0m\u001b[0;34m\u001b[0m\u001b[0m\n\u001b[1;32m      4\u001b[0m \u001b[0mL\u001b[0m \u001b[0;34m=\u001b[0m \u001b[0;34m[\u001b[0m\u001b[0;34m'red'\u001b[0m\u001b[0;34m,\u001b[0m \u001b[0;34m'green'\u001b[0m\u001b[0;34m,\u001b[0m \u001b[0;34m'blue'\u001b[0m\u001b[0;34m]\u001b[0m\u001b[0;34m\u001b[0m\u001b[0;34m\u001b[0m\u001b[0m\n\u001b[0;32m----> 5\u001b[0;31m \u001b[0mL\u001b[0m\u001b[0;34m.\u001b[0m\u001b[0mremove\u001b[0m\u001b[0;34m(\u001b[0m\u001b[0;34m'yellow'\u001b[0m\u001b[0;34m)\u001b[0m\u001b[0;34m\u001b[0m\u001b[0;34m\u001b[0m\u001b[0m\n\u001b[0m\u001b[1;32m      6\u001b[0m \u001b[0mprint\u001b[0m\u001b[0;34m(\u001b[0m\u001b[0mL\u001b[0m\u001b[0;34m)\u001b[0m\u001b[0;34m\u001b[0m\u001b[0;34m\u001b[0m\u001b[0m\n",
      "\u001b[0;31mValueError\u001b[0m: list.remove(x): x not in list"
     ]
    }
   ],
   "source": [
    "#Example: remove() raises ValueError if no item found\n",
    "\n",
    "# ValueError: list.remove(x): x not in list\n",
    "L = ['red', 'green', 'blue']\n",
    "L.remove('yellow')\n",
    "print(L)"
   ]
  },
  {
   "cell_type": "code",
   "execution_count": 25,
   "metadata": {},
   "outputs": [],
   "source": [
    "# Example: Check if item exists before removing an item\n",
    "\n",
    "L = ['red', 'green', 'blue']\n",
    "if 'yellow' in L:\n",
    "    L.remove('yellow')"
   ]
  },
  {
   "cell_type": "markdown",
   "metadata": {},
   "source": [
    "# list.reverse()\n",
    "Reverses the order of the list"
   ]
  },
  {
   "cell_type": "code",
   "execution_count": null,
   "metadata": {},
   "outputs": [],
   "source": [
    "# Example: Reverse the order of the list\n",
    "L = ['red', 'green', 'blue']\n",
    "L.reverse()\n",
    "print(L)\t# ['blue', 'green', 'red']"
   ]
  },
  {
   "cell_type": "code",
   "execution_count": 28,
   "metadata": {},
   "outputs": [
    {
     "name": "stdout",
     "output_type": "stream",
     "text": [
      "blue\n",
      "green\n",
      "red\n"
     ]
    }
   ],
   "source": [
    "# Example: Access list items in reverse order\n",
    "# If you don’t want to modify the list but access items in reverse order, you can use reversed() built-in function.\n",
    "\n",
    "L = ['red', 'green', 'blue']\n",
    "for x in reversed(L):\n",
    "  print(x)\n",
    "# blue green red"
   ]
  },
  {
   "cell_type": "markdown",
   "metadata": {},
   "source": [
    "# list.sort(key,reverse)\n",
    "Sorts the items of the list"
   ]
  },
  {
   "cell_type": "code",
   "execution_count": 29,
   "metadata": {},
   "outputs": [
    {
     "name": "stdout",
     "output_type": "stream",
     "text": [
      "['blue', 'green', 'orange', 'red']\n"
     ]
    }
   ],
   "source": [
    "# Example: Sort the list of strings\n",
    "\n",
    "L = ['red', 'green', 'blue', 'orange']\n",
    "L.sort()\n",
    "print(L)    # ['blue', 'green', 'orange', 'red']"
   ]
  },
  {
   "cell_type": "markdown",
   "metadata": {},
   "source": [
    "### Sort List in Reverse Order"
   ]
  },
  {
   "cell_type": "code",
   "execution_count": 30,
   "metadata": {},
   "outputs": [
    {
     "name": "stdout",
     "output_type": "stream",
     "text": [
      "['red', 'orange', 'green', 'blue']\n"
     ]
    }
   ],
   "source": [
    "# Example: Sort list in reverse order\n",
    "L = ['red', 'green', 'blue', 'orange']\n",
    "L.sort(reverse=True)\n",
    "print(L)    # ['red', 'orange', 'green', 'blue']"
   ]
  },
  {
   "cell_type": "markdown",
   "metadata": {},
   "source": [
    "### Sort with Key"
   ]
  },
  {
   "cell_type": "code",
   "execution_count": 31,
   "metadata": {},
   "outputs": [
    {
     "name": "stdout",
     "output_type": "stream",
     "text": [
      "['red', 'blue', 'green', 'orange']\n"
     ]
    }
   ],
   "source": [
    "# Example: Sort a list by the length of the items\n",
    "\n",
    "L = ['red', 'green', 'blue', 'orange']\n",
    "L.sort(key=len)\n",
    "print(L)    # ['red', 'blue', 'green', 'orange']"
   ]
  },
  {
   "cell_type": "markdown",
   "metadata": {},
   "source": [
    "### Sort with Custom Function"
   ]
  },
  {
   "cell_type": "code",
   "execution_count": 32,
   "metadata": {},
   "outputs": [
    {
     "name": "stdout",
     "output_type": "stream",
     "text": [
      "[{'name': 'Max', 'age': 25}, {'name': 'Bob', 'age': 30}, {'name': 'Sam', 'age': 35}]\n"
     ]
    }
   ],
   "source": [
    "# Example: Sort a list of dictionaries based on the age of students\n",
    "\n",
    "def myFunc(e):\n",
    "    return e['age']\t\t# return age\n",
    "\n",
    "L = [{'name': 'Bob', 'age': 30},\n",
    "     {'name': 'Sam', 'age': 35},\n",
    "     {'name': 'Max', 'age': 25}]\n",
    "L.sort(key=myFunc)\n",
    "print(L)\n",
    "# [{'age': 25, 'name': 'Max'}, {'age': 30, 'name': 'Bob'}, {'age': 35, 'name': 'Sam'}]"
   ]
  },
  {
   "cell_type": "markdown",
   "metadata": {},
   "source": [
    "### Case-insensitive Sorting"
   ]
  },
  {
   "cell_type": "code",
   "execution_count": 33,
   "metadata": {},
   "outputs": [
    {
     "name": "stdout",
     "output_type": "stream",
     "text": [
      "['blue', 'Green', 'orange', 'Red']\n"
     ]
    }
   ],
   "source": [
    "# Example: Sort list case-insensitive\n",
    "\n",
    "L = ['Red', 'Green', 'blue', 'orange']\n",
    "L.sort(key=str.lower)\n",
    "print(L)    # ['blue', 'Green', 'orange', 'Red']"
   ]
  },
  {
   "cell_type": "markdown",
   "metadata": {},
   "source": [
    "### sort() vs sorted()"
   ]
  },
  {
   "cell_type": "code",
   "execution_count": null,
   "metadata": {},
   "outputs": [],
   "source": [
    "# Example: Get a sorted copy of the list with sorted()\n",
    "\n",
    "L = ['red', 'green', 'blue', 'orange']\n",
    "x = sorted(L)\n",
    "print(x)    # ['blue', 'green', 'orange', 'red']"
   ]
  },
  {
   "cell_type": "code",
   "execution_count": null,
   "metadata": {},
   "outputs": [],
   "source": [
    "# Example: Iterate through a sorted list without changing the original\n",
    "\n",
    "L = ['red', 'green', 'blue', 'orange']\n",
    "for x in sorted(L):\n",
    "    print x\n",
    "# blue green orange red"
   ]
  }
 ],
 "metadata": {
  "file_extension": ".py",
  "kernelspec": {
   "display_name": "Python 3",
   "language": "python",
   "name": "python3"
  },
  "language_info": {
   "codemirror_mode": {
    "name": "ipython",
    "version": 3
   },
   "file_extension": ".py",
   "mimetype": "text/x-python",
   "name": "python",
   "nbconvert_exporter": "python",
   "pygments_lexer": "ipython3",
   "version": "3.7.5"
  },
  "mimetype": "text/x-python",
  "name": "python",
  "npconvert_exporter": "python",
  "pygments_lexer": "ipython3",
  "version": 3
 },
 "nbformat": 4,
 "nbformat_minor": 4
}
