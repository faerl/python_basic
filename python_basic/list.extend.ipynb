{
 "cells": [
  {
   "cell_type": "markdown",
   "metadata": {},
   "source": [
    "# list.extend(iterable)\n",
    "Extends a list with the items from an iterable"
   ]
  },
  {
   "cell_type": "code",
   "execution_count": null,
   "metadata": {},
   "outputs": [],
   "source": [
    "# Example: Add multiple items to a list\n",
    "L = ['red', 'green', 'blue']\n",
    "L.extend([1,2,3])\n",
    "print(L)    # ['red', 'green', 'blue', 1, 2, 3]"
   ]
  },
  {
   "cell_type": "code",
   "execution_count": 1,
   "metadata": {},
   "outputs": [
    {
     "name": "stdout",
     "output_type": "stream",
     "text": [
      "['red', 'green', 'blue', 1, 2, 3]\n"
     ]
    }
   ],
   "source": [
    "# Example: Add tuple items to a list\n",
    "L = ['red', 'green', 'blue']\n",
    "L.extend((1,2,3))\n",
    "print(L)    # ['red', 'green', 'blue', 1, 2, 3]"
   ]
  },
  {
   "cell_type": "code",
   "execution_count": 2,
   "metadata": {},
   "outputs": [
    {
     "name": "stdout",
     "output_type": "stream",
     "text": [
      "['red', 'green', 'blue', 1, 2, 3]\n"
     ]
    }
   ],
   "source": [
    "# Example: Add set items to a list\n",
    "L = ['red', 'green', 'blue']\n",
    "L.extend({1,2,3})\n",
    "print(L)  # ['red', 'green', 'blue', 1, 2, 3]"
   ]
  },
  {
   "cell_type": "code",
   "execution_count": null,
   "metadata": {},
   "outputs": [],
   "source": [
    "L = ['red', 'green', 'blue']\n",
    "L[len(L):] = [1,2,3]\n",
    "print(L)    # ['red', 'green', 'blue', 1, 2, 3]"
   ]
  },
  {
   "cell_type": "code",
   "execution_count": null,
   "metadata": {},
   "outputs": [],
   "source": [
    "L = ['red', 'green', 'blue']\n",
    "L += [1,2,3]\n",
    "print(L)    # ['red', 'green', 'blue', 1, 2, 3]"
   ]
  },
  {
   "cell_type": "code",
   "execution_count": null,
   "metadata": {},
   "outputs": [],
   "source": []
  }
 ],
 "metadata": {
  "kernelspec": {
   "display_name": "Python 3",
   "language": "python",
   "name": "python3"
  },
  "language_info": {
   "codemirror_mode": {
    "name": "ipython",
    "version": 3
   },
   "file_extension": ".py",
   "mimetype": "text/x-python",
   "name": "python",
   "nbconvert_exporter": "python",
   "pygments_lexer": "ipython3",
   "version": "3.7.5"
  }
 },
 "nbformat": 4,
 "nbformat_minor": 4
}
