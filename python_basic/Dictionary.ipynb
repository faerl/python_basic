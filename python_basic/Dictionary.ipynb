{
 "cells": [
  {
   "cell_type": "markdown",
   "metadata": {},
   "source": [
    "# Create a Dictionary\n",
    "* You can create a dictionary by placing a comma-separated list of key:value pairs in curly braces {}.\n",
    "* Each key is separated from its associated value by a colon :\n",
    "\n",
    "![](https://gitee.com/faerl/upic/raw/master/1milEd.png)"
   ]
  },
  {
   "cell_type": "code",
   "execution_count": 1,
   "metadata": {},
   "outputs": [
    {
     "name": "stdout",
     "output_type": "stream",
     "text": [
      "{'name': 'Bob', 'age': 25, 'job': 'Dev', 'city': 'New York', 'email': 'bob@web.com'}\n"
     ]
    }
   ],
   "source": [
    "# Example: Create a dictionary to store employee record\n",
    "\n",
    "D = {'name': 'Bob',\n",
    "     'age': 25,\n",
    "     'job': 'Dev',\n",
    "     'city': 'New York',\n",
    "     'email': 'bob@web.com'}\n",
    "\n",
    "print(D)"
   ]
  },
  {
   "cell_type": "markdown",
   "metadata": {},
   "source": [
    "### Keys must be unique\n",
    "\n",
    "* A key can appear in a dictionary only once.\n",
    "\n",
    "* Even if you specify a key more than once during the creation of a dictionary, the last value for that key becomes the associated value."
   ]
  },
  {
   "cell_type": "code",
   "execution_count": 3,
   "metadata": {},
   "outputs": [
    {
     "name": "stdout",
     "output_type": "stream",
     "text": [
      "{'name': 'Jane', 'age': 25}\n"
     ]
    }
   ],
   "source": [
    "D = {'name': 'Bob',\n",
    "     'age': 25,\n",
    "     'name': 'Jane'}\n",
    "print(D)    # {'name': 'Jane', 'age': 25}"
   ]
  },
  {
   "cell_type": "markdown",
   "metadata": {},
   "source": [
    "### Key must be immutable type:\n",
    "* You can use any object of immutable type as dictionary keys – such as numbers, strings, booleans or tuples."
   ]
  },
  {
   "cell_type": "code",
   "execution_count": 6,
   "metadata": {},
   "outputs": [
    {
     "name": "stdout",
     "output_type": "stream",
     "text": [
      "{(2, 2): 25, True: 'a', 'name': 'Bob'}\n"
     ]
    }
   ],
   "source": [
    "D = {(2,2): 25,\n",
    "     True: 'a',\n",
    "     'name': 'Bob'}\n",
    "\n",
    "print(D)"
   ]
  },
  {
   "cell_type": "markdown",
   "metadata": {},
   "source": [
    "# The dict() Constructor\n",
    "* You can convert two-value sequences into a dictionary with Python’s dict() constructor.\n",
    "\n",
    "* The first item in each sequence is used as the key and the second as the value."
   ]
  },
  {
   "cell_type": "code",
   "execution_count": 8,
   "metadata": {},
   "outputs": [
    {
     "name": "stdout",
     "output_type": "stream",
     "text": [
      "{'name': 'Bob', 'age': 25, 'job': 'Dev'}\n",
      "{'name': 'Bob', 'age': 25, 'job': 'Dev'}\n",
      "{'name': 'Bob', 'age': 25, 'job': 'Dev'}\n"
     ]
    }
   ],
   "source": [
    "# Example: Create a dictionary with a list of two-item tuples\n",
    "\n",
    "L = [('name', 'Bob'),\n",
    "     ('age', 25),\n",
    "     ('job', 'Dev')]\n",
    "\n",
    "D = dict(L)\n",
    "print(D)    # {'name': 'Bob', 'age': 25, 'job': 'Dev'}\n",
    "\n",
    "# Example: Create a dictionary with a tuple of two-item lists\n",
    "\n",
    "T = (['name', 'Bob'],\n",
    "     ['age', 25],\n",
    "     ['job', 'Dev'])\n",
    "\n",
    "D = dict(T)\n",
    "print(D)    # {'name': 'Bob', 'age': 25, 'job': 'Dev'}\n",
    "\n",
    "D = dict(name = 'Bob',\n",
    "         age = 25,\n",
    "         job = 'Dev')\n",
    "\n",
    "print(D)    # {'name': 'Bob', 'age': 25, 'job': 'Dev'}"
   ]
  },
  {
   "cell_type": "markdown",
   "metadata": {},
   "source": [
    "# Other Ways to Create Dictionaries"
   ]
  },
  {
   "cell_type": "code",
   "execution_count": 9,
   "metadata": {},
   "outputs": [
    {
     "name": "stdout",
     "output_type": "stream",
     "text": [
      "{'name': 'Bob', 'age': 25, 'job': 'Dev'}\n"
     ]
    }
   ],
   "source": [
    "# Example: Create a dictionary with list of zipped keys/values\n",
    "\n",
    "keys = ['name', 'age', 'job']\n",
    "values = ['Bob', 25, 'Dev']\n",
    "\n",
    "D = dict(zip(keys, values))\n",
    "\n",
    "print(D)    # {'name': 'Bob', 'age': 25, 'job': 'Dev'}"
   ]
  },
  {
   "cell_type": "code",
   "execution_count": 10,
   "metadata": {},
   "outputs": [
    {
     "name": "stdout",
     "output_type": "stream",
     "text": [
      "{'a': 0, 'b': 0, 'c': 0}\n"
     ]
    }
   ],
   "source": [
    "# Example: Initialize dictionary with default value ‘0’ for each key\n",
    "\n",
    "keys = ['a', 'b', 'c']\n",
    "defaultValue = 0\n",
    "\n",
    "D = dict.fromkeys(keys,defaultValue)\n",
    "\n",
    "print(D)    # {'a': 0, 'b': 0, 'c': 0}"
   ]
  },
  {
   "cell_type": "markdown",
   "metadata": {},
   "source": [
    "# Access Dictionary Items"
   ]
  },
  {
   "cell_type": "code",
   "execution_count": 11,
   "metadata": {},
   "outputs": [
    {
     "name": "stdout",
     "output_type": "stream",
     "text": [
      "Bob\n"
     ]
    }
   ],
   "source": [
    "D = {'name': 'Bob',\n",
    "     'age': 25,\n",
    "     'job': 'Dev'}\n",
    "\n",
    "print(D['name'])    # Bob"
   ]
  },
  {
   "cell_type": "markdown",
   "metadata": {},
   "source": [
    "* If you refer to a key that is not in the dictionary, you’ll get an exception.\n",
    "* To avoid such exception, you can use the special dictionary get() method.\n",
    "\n",
    "* This method returns the value for key if key is in the dictionary, else None, so that this method never raises a KeyError."
   ]
  },
  {
   "cell_type": "code",
   "execution_count": 13,
   "metadata": {},
   "outputs": [
    {
     "name": "stdout",
     "output_type": "stream",
     "text": [
      "Bob\n",
      "None\n"
     ]
    }
   ],
   "source": [
    "# key present\n",
    "print(D.get('name'))      # Bob\n",
    "\n",
    "# key absent\n",
    "print(D.get('salary'))    # None"
   ]
  },
  {
   "cell_type": "markdown",
   "metadata": {},
   "source": [
    "# Add or Update Dictionary Items"
   ]
  },
  {
   "cell_type": "code",
   "execution_count": 14,
   "metadata": {},
   "outputs": [
    {
     "name": "stdout",
     "output_type": "stream",
     "text": [
      "{'name': 'Sam', 'age': 25, 'job': 'Dev'}\n"
     ]
    }
   ],
   "source": [
    "# Example: Change the value of the key ‘name’\n",
    "\n",
    "D = {'name': 'Bob',\n",
    "     'age': 25,\n",
    "     'job': 'Dev'}\n",
    "\n",
    "D['name'] = 'Sam'\n",
    "print(D)    # {'name': 'Sam', 'age': 25, 'job': 'Dev'}"
   ]
  },
  {
   "cell_type": "code",
   "execution_count": 15,
   "metadata": {},
   "outputs": [
    {
     "name": "stdout",
     "output_type": "stream",
     "text": [
      "{'name': 'Bob', 'age': 25, 'job': 'Dev', 'city': 'New York'}\n"
     ]
    }
   ],
   "source": [
    "# Example: Add new item ‘city’ to the dictionary\n",
    "\n",
    "D = {'name': 'Bob',\n",
    "     'age': 25,\n",
    "     'job': 'Dev'}\n",
    "\n",
    "D['city'] = 'New York'\n",
    "print(D)\n",
    "# {'name': 'Bob', 'age': 25, 'job': 'Dev', 'city': 'New York'}"
   ]
  },
  {
   "cell_type": "markdown",
   "metadata": {},
   "source": [
    "# Merge Two Dictionaries\n",
    "* Note that this method blindly overwrites values of the same key if there’s a clash."
   ]
  },
  {
   "cell_type": "code",
   "execution_count": 17,
   "metadata": {},
   "outputs": [
    {
     "name": "stdout",
     "output_type": "stream",
     "text": [
      "{'name': 'Bob', 'age': 30, 'job': 'Dev', 'city': 'New York', 'email': 'bob@web.com'}\n"
     ]
    }
   ],
   "source": [
    "# Example: Merge dictionary ‘D2’ into ‘D1’\n",
    "\n",
    "D1 = {'name': 'Bob',\n",
    "      'age': 25,\n",
    "      'job': 'Dev'}\n",
    "\n",
    "D2 = {'age': 30,\n",
    "      'city': 'New York',\n",
    "      'email': 'bob@web.com'}\n",
    "\n",
    "D1.update(D2)\n",
    "print(D1)\n",
    "# {'name': 'Bob', 'age': 30, 'job': 'Dev',\n",
    "#  'city': 'New York', 'email': 'bob@web.com'}"
   ]
  },
  {
   "cell_type": "markdown",
   "metadata": {},
   "source": [
    "# Remove Dictionary Items"
   ]
  },
  {
   "cell_type": "code",
   "execution_count": 20,
   "metadata": {},
   "outputs": [
    {
     "name": "stdout",
     "output_type": "stream",
     "text": [
      "{'name': 'Bob', 'job': 'Dev'}\n",
      "25\n"
     ]
    }
   ],
   "source": [
    "# Example: Remove key ‘age’ and return its value\n",
    "\n",
    "D = {'name': 'Bob',\n",
    "     'age': 25,\n",
    "     'job': 'Dev'}\n",
    "\n",
    "x = D.pop('age')\n",
    "print(D)    # {'name': 'Bob', 'job': 'Dev'}\n",
    "\n",
    "# removed value\n",
    "print(x)    # 25"
   ]
  },
  {
   "cell_type": "code",
   "execution_count": 19,
   "metadata": {},
   "outputs": [
    {
     "name": "stdout",
     "output_type": "stream",
     "text": [
      "{'name': 'Bob', 'job': 'Dev'}\n"
     ]
    }
   ],
   "source": [
    "# Example: Remove ‘age’ from the dictionary\n",
    "\n",
    "D = {'name': 'Bob',\n",
    "     'age': 25,\n",
    "     'job': 'Dev'}\n",
    "\n",
    "del D['age']\n",
    "print(D)    # {'name': 'Bob', 'job': 'Dev'}"
   ]
  },
  {
   "cell_type": "code",
   "execution_count": 21,
   "metadata": {},
   "outputs": [
    {
     "name": "stdout",
     "output_type": "stream",
     "text": [
      "{'name': 'Bob', 'age': 25}\n",
      "('job', 'Dev')\n"
     ]
    }
   ],
   "source": [
    "# Example: Remove last inserted item from the dictionary\n",
    "\n",
    "D = {'name': 'Bob',\n",
    "     'age': 25,\n",
    "     'job': 'Dev'}\n",
    "\n",
    "x = D.popitem()\n",
    "print(D)    # {'name': 'Bob', 'age': 25}\n",
    "\n",
    "# removed pair\n",
    "print(x)    # ('job', 'Dev')"
   ]
  },
  {
   "cell_type": "markdown",
   "metadata": {},
   "source": [
    "# Remove all Items"
   ]
  },
  {
   "cell_type": "code",
   "execution_count": 22,
   "metadata": {},
   "outputs": [
    {
     "name": "stdout",
     "output_type": "stream",
     "text": [
      "{}\n"
     ]
    }
   ],
   "source": [
    "# Example: Empty entire dictionary\n",
    "\n",
    "D = {'name': 'Bob',\n",
    "     'age': 25,\n",
    "     'job': 'Dev'}\n",
    "\n",
    "D.clear()\n",
    "print(D)    # {}"
   ]
  },
  {
   "cell_type": "markdown",
   "metadata": {},
   "source": [
    "# Get All Keys, Values and Key:Value Pairs\n",
    "* There are three dictionary methods that return all of the dictionary’s keys, values and key-value pairs: keys(), values(), and items().\n",
    "* All the three methods return iterable object. If you want a true list from these methods, wrap them in a list() function."
   ]
  },
  {
   "cell_type": "code",
   "execution_count": 27,
   "metadata": {},
   "outputs": [
    {
     "name": "stdout",
     "output_type": "stream",
     "text": [
      "['name', 'age', 'job']\n",
      "['Bob', 25, 'Dev']\n",
      "[('name', 'Bob'), ('age', 25), ('job', 'Dev')]\n"
     ]
    }
   ],
   "source": [
    "D = {'name': 'Bob',\n",
    "     'age': 25,\n",
    "     'job': 'Dev'}\n",
    "\n",
    "# get all keys\n",
    "print(list(D.keys()))    # ['name', 'age', 'job']\n",
    "\n",
    "# get all values\n",
    "print(list(D.values()))  # ['Bob', 25, 'Dev']\n",
    "\n",
    "# get all pairs\n",
    "print(list(D.items()))   # [('name', 'Bob'), ('age', 25), ('job', 'Dev')]"
   ]
  },
  {
   "cell_type": "markdown",
   "metadata": {},
   "source": [
    "# Iterate Through a Dictionary"
   ]
  },
  {
   "cell_type": "code",
   "execution_count": 29,
   "metadata": {},
   "outputs": [
    {
     "name": "stdout",
     "output_type": "stream",
     "text": [
      "name\n",
      "age\n",
      "job\n"
     ]
    }
   ],
   "source": [
    "# If you use a dictionary in a for loop, it traverses the keys of the dictionary by default.\n",
    "\n",
    "D = {'name': 'Bob',\n",
    "     'age': 25,\n",
    "     'job': 'Dev'}\n",
    "\n",
    "for x in D:\n",
    "    print(x)    # name age job"
   ]
  },
  {
   "cell_type": "code",
   "execution_count": 30,
   "metadata": {},
   "outputs": [
    {
     "name": "stdout",
     "output_type": "stream",
     "text": [
      "Bob\n",
      "25\n",
      "Dev\n"
     ]
    }
   ],
   "source": [
    "# To iterate over the values of a dictionary, index from key to value inside the for loop.\n",
    "D = {'name': 'Bob',\n",
    "     'age': 25,\n",
    "     'job': 'Dev'}\n",
    "\n",
    "for x in D:\n",
    "    print(D[x])    # Bob 25 Dev"
   ]
  },
  {
   "cell_type": "markdown",
   "metadata": {},
   "source": [
    "# Check if a Key or Value Exists"
   ]
  },
  {
   "cell_type": "code",
   "execution_count": 31,
   "metadata": {},
   "outputs": [
    {
     "name": "stdout",
     "output_type": "stream",
     "text": [
      "True\n",
      "False\n"
     ]
    }
   ],
   "source": [
    "# Example: Check if a key exists in a dictionary\n",
    "\n",
    "D = {'name': 'Bob',\n",
    "     'age': 25,\n",
    "     'job': 'Dev'}\n",
    "\n",
    "print('name' in D)      # True\n",
    "print('salary' in D)    # False"
   ]
  },
  {
   "cell_type": "code",
   "execution_count": 32,
   "metadata": {},
   "outputs": [
    {
     "name": "stdout",
     "output_type": "stream",
     "text": [
      "True\n",
      "False\n"
     ]
    }
   ],
   "source": [
    "# Example: Check if a value exists in a dictionary\n",
    "\n",
    "D = {'name': 'Bob',\n",
    "     'age': 25,\n",
    "     'job': 'Dev'}\n",
    "\n",
    "print('Bob' in D.values())    # True\n",
    "print('Sam' in D.values())    # False"
   ]
  },
  {
   "cell_type": "markdown",
   "metadata": {},
   "source": [
    "# Find Dictionary Length\n",
    "* o find how many key:value pairs a dictionary has, use len() method."
   ]
  },
  {
   "cell_type": "code",
   "execution_count": 34,
   "metadata": {},
   "outputs": [
    {
     "name": "stdout",
     "output_type": "stream",
     "text": [
      "3\n"
     ]
    }
   ],
   "source": [
    "# Example: Find length of a dictionary\n",
    "\n",
    "D = {'name': 'Bob',\n",
    "     'age': 25,\n",
    "     'job': 'Dev'}\n",
    "\n",
    "print(len(D))    # 3"
   ]
  },
  {
   "cell_type": "code",
   "execution_count": null,
   "metadata": {},
   "outputs": [],
   "source": []
  }
 ],
 "metadata": {
  "kernelspec": {
   "display_name": "Python 3",
   "language": "python",
   "name": "python3"
  },
  "language_info": {
   "codemirror_mode": {
    "name": "ipython",
    "version": 3
   },
   "file_extension": ".py",
   "mimetype": "text/x-python",
   "name": "python",
   "nbconvert_exporter": "python",
   "pygments_lexer": "ipython3",
   "version": "3.7.5"
  }
 },
 "nbformat": 4,
 "nbformat_minor": 4
}
