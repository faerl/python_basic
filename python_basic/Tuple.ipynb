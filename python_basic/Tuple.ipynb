{
 "cells": [
  {
   "cell_type": "markdown",
   "metadata": {},
   "source": [
    "# Create a Tuple"
   ]
  },
  {
   "cell_type": "code",
   "execution_count": 6,
   "metadata": {},
   "outputs": [
    {
     "name": "stdout",
     "output_type": "stream",
     "text": [
      "(1, 2, 3)\n",
      "('red', 'green', 'blue')\n",
      "(1, 'abc', 1.23, True)\n",
      "()\n",
      "(1, 'abc', 1.23, True)\n"
     ]
    }
   ],
   "source": [
    "# A tuple of integers\n",
    "T = (1, 2, 3)\n",
    "print(T)\n",
    "\n",
    "# A tuple of strings\n",
    "T = ('red', 'green', 'blue')\n",
    "print(T)\n",
    "\n",
    "# A tuple with mixed datatypes\n",
    "T = (1, 'abc', 1.23, True)\n",
    "print(T)\n",
    "\n",
    "# An empty tuple\n",
    "T = ()\n",
    "print(T)\n",
    "\n",
    "# A tuple without parentheses\n",
    "T = 1, 'abc', 1.23, True\n",
    "print(T)"
   ]
  },
  {
   "cell_type": "markdown",
   "metadata": {},
   "source": [
    "# Singleton Tuple"
   ]
  },
  {
   "cell_type": "code",
   "execution_count": 8,
   "metadata": {},
   "outputs": [
    {
     "name": "stdout",
     "output_type": "stream",
     "text": [
      "<class 'tuple'>\n",
      "<class 'int'>\n"
     ]
    }
   ],
   "source": [
    "# Example: Create a single item tuple\n",
    "\n",
    "T = (4,)\n",
    "print(type(T))  # <type 'tuple'>\n",
    "\n",
    "# Example: Not a tuple\n",
    "\n",
    "T = (4)\n",
    "print(type(T))  # <type 'int'>"
   ]
  },
  {
   "cell_type": "markdown",
   "metadata": {},
   "source": [
    "# The tuple() Constructor"
   ]
  },
  {
   "cell_type": "code",
   "execution_count": 9,
   "metadata": {},
   "outputs": [
    {
     "name": "stdout",
     "output_type": "stream",
     "text": [
      "(1, 2, 3)\n",
      "('a', 'b', 'c')\n"
     ]
    }
   ],
   "source": [
    "# Example: Convert a list to a tuple\n",
    "\n",
    "T = tuple([1, 2, 3])\n",
    "print(T)    # (1, 2, 3)\n",
    "\n",
    "# Example: Convert a string to a tuple of one-character strings\n",
    "\n",
    "T = tuple('abc')\n",
    "print(T)    # ('a', 'b', 'c')"
   ]
  },
  {
   "cell_type": "markdown",
   "metadata": {},
   "source": [
    "# Nested Tuples"
   ]
  },
  {
   "cell_type": "code",
   "execution_count": 11,
   "metadata": {},
   "outputs": [
    {
     "name": "stdout",
     "output_type": "stream",
     "text": [
      "('red', ('green', 'blue'), 'yellow')\n"
     ]
    }
   ],
   "source": [
    "# Example: Create nested tuples\n",
    "\n",
    "T = ('red', ('green', 'blue'), 'yellow')\n",
    "print(T)"
   ]
  },
  {
   "cell_type": "markdown",
   "metadata": {},
   "source": [
    "# Tuple Packing & Unpacking\n",
    "### Tuple Packing\n",
    "\n",
    "When a tuple is created, the items in the tuple are packed together into the object.\n",
    "\n",
    "![](https://gitee.com/faerl/upic/raw/master/m7ebx4.png)"
   ]
  },
  {
   "cell_type": "code",
   "execution_count": 13,
   "metadata": {},
   "outputs": [
    {
     "name": "stdout",
     "output_type": "stream",
     "text": [
      "('red', 'green', 'blue', 'cyan')\n"
     ]
    }
   ],
   "source": [
    "T = ('red', 'green', 'blue', 'cyan')\n",
    "print(T)    # ('red', 'green', 'blue', 'cyan')"
   ]
  },
  {
   "cell_type": "markdown",
   "metadata": {},
   "source": [
    "# Tuple Unpacking\n",
    "\n",
    "When a packed tuple is assigned to a new tuple, the individual items are unpacked (assigned to the items of a new tuple).\n",
    "\n",
    "![](https://gitee.com/faerl/upic/raw/master/WrSc87.png)"
   ]
  },
  {
   "cell_type": "code",
   "execution_count": 15,
   "metadata": {},
   "outputs": [
    {
     "name": "stdout",
     "output_type": "stream",
     "text": [
      "red\n",
      "green\n",
      "blue\n",
      "cyan\n"
     ]
    }
   ],
   "source": [
    "T = ('red', 'green', 'blue', 'cyan')\n",
    "(a, b, c, d) = T\n",
    "print(a)    # red\n",
    "print(b)    # green\n",
    "print(c)    # blue\n",
    "print(d)    # cyan"
   ]
  },
  {
   "cell_type": "code",
   "execution_count": 16,
   "metadata": {},
   "outputs": [
    {
     "name": "stdout",
     "output_type": "stream",
     "text": [
      "99\n",
      "1\n"
     ]
    }
   ],
   "source": [
    "# Example: Swap values of ‘a’ and ‘b’\n",
    "\n",
    "a = 1\n",
    "b = 99\n",
    "a, b = b, a\n",
    "print(a)    # 99\n",
    "print(b)    # 1"
   ]
  },
  {
   "cell_type": "code",
   "execution_count": 18,
   "metadata": {},
   "outputs": [
    {
     "name": "stdout",
     "output_type": "stream",
     "text": [
      "<class 'str'>\n",
      "bob\n",
      "python.org\n"
     ]
    }
   ],
   "source": [
    "# Example: Split an email address into a user name and a domain\n",
    "\n",
    "addr = 'bob@python.org'\n",
    "user, domain = addr.split('@')\n",
    "\n",
    "print(user)     # bob\n",
    "print(domain)   # python.org"
   ]
  },
  {
   "cell_type": "markdown",
   "metadata": {},
   "source": [
    "# Access Tuple Items\n",
    "\n",
    "![](https://gitee.com/faerl/upic/raw/master/lWaYTU.png)"
   ]
  },
  {
   "cell_type": "code",
   "execution_count": 23,
   "metadata": {},
   "outputs": [
    {
     "name": "stdout",
     "output_type": "stream",
     "text": [
      "red\n",
      "blue\n",
      "----------\n",
      "black\n",
      "yellow\n"
     ]
    }
   ],
   "source": [
    "# Example: Access 1st and 3rd items by positive index\n",
    "\n",
    "T = ('red', 'green', 'blue', 'yellow', 'black')\n",
    "print(T[0])     # red\n",
    "print(T[2])     # blue\n",
    "\n",
    "print('-' *10)\n",
    "\n",
    "T = ('red', 'green', 'blue', 'yellow', 'black')\n",
    "print(T[-1])     # black\n",
    "print(T[-2])     # yellow"
   ]
  },
  {
   "cell_type": "markdown",
   "metadata": {},
   "source": [
    "# Tuple Slicing"
   ]
  },
  {
   "cell_type": "code",
   "execution_count": 24,
   "metadata": {},
   "outputs": [
    {
     "name": "stdout",
     "output_type": "stream",
     "text": [
      "('c', 'd', 'e')\n",
      "('a', 'b')\n",
      "('d', 'e')\n"
     ]
    }
   ],
   "source": [
    "T = ('a', 'b', 'c', 'd', 'e', 'f')\n",
    "\n",
    "print(T[2:5])\t\t# ('c', 'd', 'e')\n",
    "print(T[0:2])\t\t# ('a', 'b')\n",
    "print(T[3:-1])\t\t# ('d', 'e')"
   ]
  },
  {
   "cell_type": "markdown",
   "metadata": {},
   "source": [
    "# Delete a Tuple"
   ]
  },
  {
   "cell_type": "code",
   "execution_count": 29,
   "metadata": {},
   "outputs": [],
   "source": [
    "# Example: Delete a tuple completely with del keyword\n",
    "\n",
    "T = ('red', 'green', 'blue')\n",
    "del T"
   ]
  },
  {
   "cell_type": "markdown",
   "metadata": {},
   "source": [
    "# Tuple Concatenation & Repetition\n",
    "\n",
    "Tuples can be joined using the concatenation operator + or Replication operator *"
   ]
  },
  {
   "cell_type": "code",
   "execution_count": 28,
   "metadata": {},
   "outputs": [
    {
     "name": "stdout",
     "output_type": "stream",
     "text": [
      "('red', 'green', 'blue', 1, 2, 3)\n",
      "('red', 'red', 'red')\n"
     ]
    }
   ],
   "source": [
    "# Concatenate\n",
    "T = ('red', 'green', 'blue') + (1, 2, 3)\n",
    "print(T)    # ('red', 'green', 'blue', 1, 2, 3)\n",
    "\n",
    "# Replicate\n",
    "T = ('red',) * 3\n",
    "print(T)    # ('red', 'red', 'red')"
   ]
  },
  {
   "cell_type": "markdown",
   "metadata": {},
   "source": [
    "# Find Tuple Length"
   ]
  },
  {
   "cell_type": "code",
   "execution_count": 30,
   "metadata": {},
   "outputs": [
    {
     "name": "stdout",
     "output_type": "stream",
     "text": [
      "3\n"
     ]
    }
   ],
   "source": [
    "# Example: Find length of a tuple\n",
    "\n",
    "T = ('red', 'green', 'blue')\n",
    "print(len(T))   # 3"
   ]
  },
  {
   "cell_type": "markdown",
   "metadata": {},
   "source": [
    "# Check if item exists in a tuple"
   ]
  },
  {
   "cell_type": "code",
   "execution_count": 31,
   "metadata": {},
   "outputs": [
    {
     "name": "stdout",
     "output_type": "stream",
     "text": [
      "yes\n",
      "yes\n"
     ]
    }
   ],
   "source": [
    "# Check for presence\n",
    "T = ('red', 'green', 'blue')\n",
    "if 'red' in T:\n",
    "    print('yes')\n",
    "\n",
    "    # Check for absence\n",
    "T = ('red', 'green', 'blue')\n",
    "if 'yellow' not in T:\n",
    "    print('yes')"
   ]
  },
  {
   "cell_type": "markdown",
   "metadata": {},
   "source": [
    "# Iterate through a tuple"
   ]
  },
  {
   "cell_type": "code",
   "execution_count": 33,
   "metadata": {},
   "outputs": [
    {
     "name": "stdout",
     "output_type": "stream",
     "text": [
      "red\n",
      "green\n",
      "blue\n"
     ]
    }
   ],
   "source": [
    "# Example: Print each item in a tuple\n",
    "\n",
    "T = ('red', 'green', 'blue')\n",
    "for item in T:\n",
    "    print(item)    # red green blue"
   ]
  },
  {
   "cell_type": "markdown",
   "metadata": {},
   "source": [
    "# Tuple Sorting\n",
    "\n",
    "There are two methods to sort a tuple.\n",
    "\n",
    "Method 1: Convert a tuple to a mutable object like list (using list constructor), gain access to a sorting method call (sort()) and convert it back to tuple."
   ]
  },
  {
   "cell_type": "code",
   "execution_count": 34,
   "metadata": {},
   "outputs": [
    {
     "name": "stdout",
     "output_type": "stream",
     "text": [
      "('aa', 'bb', 'cc', 'dd')\n"
     ]
    }
   ],
   "source": [
    "# Example: Sort a tuple by converting it to a list\n",
    "\n",
    "T = ('cc', 'aa', 'dd', 'bb')\n",
    "tmp = list(T)\t# convert tuple to list\n",
    "tmp.sort()\t\t# sort list\n",
    "T = tuple(tmp)\t# convert list to tuple\n",
    "print(T)    \t# ('aa', 'bb', 'cc', 'dd')"
   ]
  },
  {
   "cell_type": "markdown",
   "metadata": {},
   "source": [
    "Method 2: Use the built-in sorted() method that accepts any sequence object."
   ]
  },
  {
   "cell_type": "code",
   "execution_count": 35,
   "metadata": {},
   "outputs": [
    {
     "name": "stdout",
     "output_type": "stream",
     "text": [
      "('aa', 'bb', 'cc', 'dd')\n"
     ]
    }
   ],
   "source": [
    "# Example: Sort a tuple using built-in sorted() method\n",
    "\n",
    "T = ('cc', 'aa', 'dd', 'bb')\n",
    "print(tuple(sorted(T)))  # ('aa', 'bb', 'cc', 'dd')"
   ]
  },
  {
   "cell_type": "code",
   "execution_count": null,
   "metadata": {},
   "outputs": [],
   "source": []
  }
 ],
 "metadata": {
  "kernelspec": {
   "display_name": "Python 3",
   "language": "python",
   "name": "python3"
  },
  "language_info": {
   "codemirror_mode": {
    "name": "ipython",
    "version": 3
   },
   "file_extension": ".py",
   "mimetype": "text/x-python",
   "name": "python",
   "nbconvert_exporter": "python",
   "pygments_lexer": "ipython3",
   "version": "3.7.5"
  }
 },
 "nbformat": 4,
 "nbformat_minor": 4
}
