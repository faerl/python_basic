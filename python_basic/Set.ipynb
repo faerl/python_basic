{
 "cells": [
  {
   "cell_type": "markdown",
   "metadata": {},
   "source": [
    "* Python set is an unordered collection of unique items.\n",
    "![](https://gitee.com/faerl/upic/raw/master/4NVYHU.png)\n",
    "\n",
    "# Create a Set\n",
    "\n",
    "You can create a set by placing a comma-separated sequence of items in curly braces {}."
   ]
  },
  {
   "cell_type": "code",
   "execution_count": 3,
   "metadata": {},
   "outputs": [
    {
     "name": "stdout",
     "output_type": "stream",
     "text": [
      "{'green', 'red', 'blue'}\n",
      "{'abc', 1, 1.23, (3+4j)}\n",
      "{'green', 'red', 'blue'}\n"
     ]
    }
   ],
   "source": [
    "# A set of strings\n",
    "S = {'red', 'green', 'blue'}\n",
    "print(S)\n",
    "\n",
    "# A set of mixed datatypes\n",
    "S = {1, 'abc', 1.23, (3+4j), True}\n",
    "print(S)\n",
    "\n",
    "# Example: Set removes duplicates\n",
    "\n",
    "S = {'red', 'green', 'blue', 'red'}\n",
    "print(S)\t# {'blue', 'green', 'red'}"
   ]
  },
  {
   "cell_type": "markdown",
   "metadata": {},
   "source": [
    "**A set itself is changeable (mutable), but it cannot contain changeable objects.**"
   ]
  },
  {
   "cell_type": "code",
   "execution_count": 4,
   "metadata": {},
   "outputs": [
    {
     "name": "stdout",
     "output_type": "stream",
     "text": [
      "{'abc', 1, ('a', 'b')}\n"
     ]
    },
    {
     "ename": "TypeError",
     "evalue": "unhashable type: 'list'",
     "output_type": "error",
     "traceback": [
      "\u001b[0;31m---------------------------------------------------------------------------\u001b[0m",
      "\u001b[0;31mTypeError\u001b[0m                                 Traceback (most recent call last)",
      "\u001b[0;32m<ipython-input-4-353d2f0c10e9>\u001b[0m in \u001b[0;36m<module>\u001b[0;34m\u001b[0m\n\u001b[1;32m      7\u001b[0m \u001b[0;34m\u001b[0m\u001b[0m\n\u001b[1;32m      8\u001b[0m \u001b[0;31m# TypeError: unhashable type: 'list'\u001b[0m\u001b[0;34m\u001b[0m\u001b[0;34m\u001b[0m\u001b[0;34m\u001b[0m\u001b[0m\n\u001b[0;32m----> 9\u001b[0;31m \u001b[0mS\u001b[0m \u001b[0;34m=\u001b[0m \u001b[0;34m{\u001b[0m\u001b[0;34m[\u001b[0m\u001b[0;36m1\u001b[0m\u001b[0;34m,\u001b[0m \u001b[0;36m2\u001b[0m\u001b[0;34m]\u001b[0m\u001b[0;34m,\u001b[0m \u001b[0;34m{\u001b[0m\u001b[0;34m'a'\u001b[0m\u001b[0;34m:\u001b[0m\u001b[0;36m1\u001b[0m\u001b[0;34m,\u001b[0m \u001b[0;34m'b'\u001b[0m\u001b[0;34m:\u001b[0m\u001b[0;36m2\u001b[0m\u001b[0;34m}\u001b[0m\u001b[0;34m}\u001b[0m\u001b[0;34m\u001b[0m\u001b[0;34m\u001b[0m\u001b[0m\n\u001b[0m",
      "\u001b[0;31mTypeError\u001b[0m: unhashable type: 'list'"
     ]
    }
   ],
   "source": [
    "# Example: A set can contain unchangeable objects like number, string, tuple etc.\n",
    "\n",
    "S = {1, 'abc', ('a', 'b'), True}\n",
    "print(S)\n",
    "\n",
    "#But lists and dictionaries are changeable, so they can’t be set items.\n",
    "\n",
    "# TypeError: unhashable type: 'list'\n",
    "S = {[1, 2], {'a':1, 'b':2}}"
   ]
  },
  {
   "cell_type": "markdown",
   "metadata": {},
   "source": [
    "# Set constructor\n",
    "Example: Create sets with set() constructor"
   ]
  },
  {
   "cell_type": "code",
   "execution_count": 5,
   "metadata": {},
   "outputs": [
    {
     "name": "stdout",
     "output_type": "stream",
     "text": [
      "{'a', 'b', 'c'}\n",
      "{0, 1, 2, 3}\n",
      "{1, 2, 3}\n"
     ]
    }
   ],
   "source": [
    "# Set of items in an iterable\n",
    "S = set('abc')\n",
    "print(S)    # {'a', 'b', 'c'}\n",
    "\n",
    "# Set of successive integers\n",
    "S = set(range(0, 4))\n",
    "print(S)    # {0, 1, 2, 3}\n",
    "\n",
    "# Convert list into set\n",
    "S = set([1, 2, 3])\n",
    "print(S)    # {1, 2, 3}"
   ]
  },
  {
   "cell_type": "markdown",
   "metadata": {},
   "source": [
    "# Add Items to a Set"
   ]
  },
  {
   "cell_type": "code",
   "execution_count": 6,
   "metadata": {},
   "outputs": [
    {
     "name": "stdout",
     "output_type": "stream",
     "text": [
      "{'green', 'red', 'blue', 'yellow'}\n"
     ]
    }
   ],
   "source": [
    "# Example: Add ‘yellow’ to the set\n",
    "\n",
    "S = {'red', 'green', 'blue'}\n",
    "S.add('yellow')\n",
    "print(S)    # {'blue', 'green', 'yellow', 'red'}"
   ]
  },
  {
   "cell_type": "code",
   "execution_count": 7,
   "metadata": {},
   "outputs": [
    {
     "name": "stdout",
     "output_type": "stream",
     "text": [
      "{'orange', 'yellow', 'blue', 'green', 'red'}\n"
     ]
    }
   ],
   "source": [
    "# Example: Add ‘yellow’ and ‘orange’ to the set\n",
    "\n",
    "S = {'red', 'green', 'blue'}\n",
    "S.update(['yellow', 'orange'])\n",
    "print(S)    # {'blue', 'orange', 'green', 'yellow', 'red'}"
   ]
  },
  {
   "cell_type": "markdown",
   "metadata": {},
   "source": [
    "# Remove Items from a Set"
   ]
  },
  {
   "cell_type": "code",
   "execution_count": 9,
   "metadata": {},
   "outputs": [
    {
     "name": "stdout",
     "output_type": "stream",
     "text": [
      "{'green', 'blue'}\n",
      "{'green', 'blue'}\n"
     ]
    }
   ],
   "source": [
    "# Example: Remove ‘red’ from the set\n",
    "\n",
    "S = {'red', 'green', 'blue'}\n",
    "S.remove('red')\n",
    "print(S)    # {'blue', 'green'}\n",
    "\n",
    "# Example: Remove ‘red’ from the set\n",
    "\n",
    "S = {'red', 'green', 'blue'}\n",
    "S.discard('red')\n",
    "print(S)    # {'blue', 'green'}"
   ]
  },
  {
   "cell_type": "markdown",
   "metadata": {},
   "source": [
    "> remove() vs discard()\n",
    "> Both methods work exactly the same.\n",
    "> The only difference is that If specified item is not present in a set:\n",
    "> * remove() method raises KeyError\n",
    "> * discard() method does nothing"
   ]
  },
  {
   "cell_type": "markdown",
   "metadata": {},
   "source": [
    "### The pop() method removes random item from a set and returns it."
   ]
  },
  {
   "cell_type": "code",
   "execution_count": 12,
   "metadata": {},
   "outputs": [
    {
     "name": "stdout",
     "output_type": "stream",
     "text": [
      "{'red', 'blue'}\n",
      "green\n"
     ]
    }
   ],
   "source": [
    "# Example: Remove random item from the set print returned value\n",
    "\n",
    "S = {'red', 'green', 'blue'}\n",
    "x = S.pop()\n",
    "print(S)    # {'green', 'red'}\n",
    "print(x)    # blue"
   ]
  },
  {
   "cell_type": "code",
   "execution_count": null,
   "metadata": {},
   "outputs": [],
   "source": [
    "#If the set is empty, pop() raises an exception.\n",
    "\n",
    "# KeyError: 'pop from an empty set'\n",
    "S = set()\n",
    "S.pop()"
   ]
  },
  {
   "cell_type": "code",
   "execution_count": 13,
   "metadata": {},
   "outputs": [
    {
     "name": "stdout",
     "output_type": "stream",
     "text": [
      "set()\n"
     ]
    }
   ],
   "source": [
    "S = {'red', 'green', 'blue'}\n",
    "S.clear()\n",
    "print(S)\t# set()"
   ]
  },
  {
   "cell_type": "markdown",
   "metadata": {},
   "source": [
    "# Find Set Size"
   ]
  },
  {
   "cell_type": "code",
   "execution_count": 14,
   "metadata": {},
   "outputs": [
    {
     "name": "stdout",
     "output_type": "stream",
     "text": [
      "3\n"
     ]
    }
   ],
   "source": [
    "# Example: Find length of a set\n",
    "\n",
    "S = {'red', 'green', 'blue'}\n",
    "print(len(S))    # 3"
   ]
  },
  {
   "cell_type": "markdown",
   "metadata": {},
   "source": [
    "# Iterate Through a Set"
   ]
  },
  {
   "cell_type": "code",
   "execution_count": 16,
   "metadata": {},
   "outputs": [
    {
     "name": "stdout",
     "output_type": "stream",
     "text": [
      "green\n",
      "red\n",
      "blue\n"
     ]
    }
   ],
   "source": [
    "# Example: Print each item in a set\n",
    "\n",
    "S = {'red', 'green', 'blue'}\n",
    "for item in S:\n",
    "    print(item)\n",
    "# blue green red"
   ]
  },
  {
   "cell_type": "markdown",
   "metadata": {},
   "source": [
    "# Check if Item Exists in a Set"
   ]
  },
  {
   "cell_type": "code",
   "execution_count": 17,
   "metadata": {},
   "outputs": [
    {
     "name": "stdout",
     "output_type": "stream",
     "text": [
      "yes\n",
      "yes\n"
     ]
    }
   ],
   "source": [
    "# Check for presence\n",
    "S = {'red', 'green', 'blue'}\n",
    "if 'red' in S:\n",
    "    print('yes')\n",
    "\n",
    "    # Check for absence\n",
    "S = {'red', 'green', 'blue'}\n",
    "if 'yellow' not in S:\n",
    "    print('yes')"
   ]
  },
  {
   "cell_type": "markdown",
   "metadata": {},
   "source": [
    "# Set Operations"
   ]
  },
  {
   "cell_type": "markdown",
   "metadata": {},
   "source": [
    "# Set Union\n",
    "* You can perform union on two or more sets using union() method or  |  operator.\n",
    "\n",
    "![](https://gitee.com/faerl/upic/raw/master/RLnGMi.png)\n",
    "\n",
    "Union of the sets A and B is the set of all items in either A or B"
   ]
  },
  {
   "cell_type": "code",
   "execution_count": 19,
   "metadata": {},
   "outputs": [
    {
     "name": "stdout",
     "output_type": "stream",
     "text": [
      "{'blue', 'orange', 'green', 'red', 'yellow'}\n",
      "{'blue', 'orange', 'green', 'red', 'yellow'}\n"
     ]
    }
   ],
   "source": [
    "A = {'red', 'green', 'blue'}\n",
    "B = {'yellow', 'red', 'orange'}\n",
    "\n",
    "# by operator\n",
    "print(A | B)\n",
    "\n",
    "# by method\n",
    "print(A.union(B))"
   ]
  },
  {
   "cell_type": "markdown",
   "metadata": {},
   "source": [
    "# Set Intersection\n",
    "* You can perform intersection on two or more sets using intersection() method or  &  operator.\n",
    "\n",
    "![](https://gitee.com/faerl/upic/raw/master/fo6jcX.png)\n",
    "\n",
    "Intersection of the sets A and B is the set of items common to both A and B."
   ]
  },
  {
   "cell_type": "code",
   "execution_count": 21,
   "metadata": {},
   "outputs": [
    {
     "name": "stdout",
     "output_type": "stream",
     "text": [
      "{'red'}\n",
      "{'red'}\n"
     ]
    }
   ],
   "source": [
    "A = {'red', 'green', 'blue'}\n",
    "B = {'yellow', 'red', 'orange'}\n",
    "\n",
    "# by operator\n",
    "print(A & B)\n",
    "\n",
    "# by method\n",
    "print(A.intersection(B))"
   ]
  },
  {
   "cell_type": "markdown",
   "metadata": {},
   "source": [
    "# Set Difference\n",
    "\n",
    "* You can compute the difference between two or more sets using difference() method or  -  operator.\n",
    "\n",
    "![](https://gitee.com/faerl/upic/raw/master/XcZZGJ.png)\n",
    "\n",
    "Set Difference of A and B is the set of all items that are in A but not in B."
   ]
  },
  {
   "cell_type": "code",
   "execution_count": 23,
   "metadata": {},
   "outputs": [
    {
     "name": "stdout",
     "output_type": "stream",
     "text": [
      "{'green', 'blue'}\n",
      "{'green', 'blue'}\n"
     ]
    }
   ],
   "source": [
    "A = {'red', 'green', 'blue'}\n",
    "B = {'yellow', 'red', 'orange'}\n",
    "\n",
    "# by operator\n",
    "print(A - B)\n",
    "\n",
    "# by method\n",
    "print(A.difference(B))"
   ]
  },
  {
   "cell_type": "markdown",
   "metadata": {},
   "source": [
    "# Set Symmetric Difference\n",
    "\n",
    "* You can compute symmetric difference between two or more sets using symmetric_difference() method or  ^  operator.\n",
    "\n",
    "![](https://gitee.com/faerl/upic/raw/master/GKTJVx.png)\n",
    "\n",
    "Symmetric difference of sets A and B is the set of all elements in either A or B, but not both."
   ]
  },
  {
   "cell_type": "code",
   "execution_count": 25,
   "metadata": {},
   "outputs": [
    {
     "name": "stdout",
     "output_type": "stream",
     "text": [
      "{'orange', 'yellow', 'blue', 'green'}\n",
      "{'orange', 'yellow', 'blue', 'green'}\n"
     ]
    }
   ],
   "source": [
    "A = {'red', 'green', 'blue'}\n",
    "B = {'yellow', 'red', 'orange'}\n",
    "\n",
    "# by operator\n",
    "print(A ^ B)\n",
    "\n",
    "# by method\n",
    "print(A.symmetric_difference(B))"
   ]
  },
  {
   "cell_type": "code",
   "execution_count": null,
   "metadata": {},
   "outputs": [],
   "source": []
  }
 ],
 "metadata": {
  "kernelspec": {
   "display_name": "Python 3",
   "language": "python",
   "name": "python3"
  },
  "language_info": {
   "codemirror_mode": {
    "name": "ipython",
    "version": 3
   },
   "file_extension": ".py",
   "mimetype": "text/x-python",
   "name": "python",
   "nbconvert_exporter": "python",
   "pygments_lexer": "ipython3",
   "version": "3.7.5"
  }
 },
 "nbformat": 4,
 "nbformat_minor": 4
}
