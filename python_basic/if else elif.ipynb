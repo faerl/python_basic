{
 "cells": [
  {
   "cell_type": "markdown",
   "metadata": {},
   "source": [
    "# Python if else elif Statement\n",
    "* if Statement: use it to execute a block of code, if a specified condition is true\n",
    "* else Statement: use it to execute a block of code, if the same condition is false\n",
    "* elif (else if) Statement: use it to specify a new condition to test, if the first condition is false"
   ]
  },
  {
   "cell_type": "markdown",
   "metadata": {},
   "source": [
    "# The if Statement\n",
    "* Use if statement to execute a block of Python code, if the condition is true.\n",
    "# Syntax\n",
    "![](https://gitee.com/faerl/upic/raw/master/qGDmdH.png)"
   ]
  },
  {
   "cell_type": "code",
   "execution_count": 1,
   "metadata": {},
   "outputs": [
    {
     "name": "stdout",
     "output_type": "stream",
     "text": [
      "x is greater\n"
     ]
    }
   ],
   "source": [
    "x, y = 7, 5\n",
    "if x > y:\n",
    "\tprint('x is greater')"
   ]
  },
  {
   "cell_type": "markdown",
   "metadata": {},
   "source": [
    "# More Examples\n",
    "* In Python, any non-zero value or nonempty container is considered TRUE, \n",
    "* whereas Zero, None, and empty container is considered FALSE."
   ]
  },
  {
   "cell_type": "code",
   "execution_count": 2,
   "metadata": {},
   "outputs": [
    {
     "name": "stdout",
     "output_type": "stream",
     "text": [
      "True\n",
      "True\n",
      "True\n"
     ]
    }
   ],
   "source": [
    "# any non-zero value\n",
    "if -3:\n",
    "    print('True')\n",
    "\n",
    "    # mathematical expression\n",
    "x, y = 7, 5\n",
    "if x + y:\n",
    "    print('True')\n",
    "\n",
    "    # nonempty container\n",
    "L = ['red','green']\n",
    "if L:\n",
    "    print('True')"
   ]
  },
  {
   "cell_type": "markdown",
   "metadata": {},
   "source": [
    "# Nested if Statement"
   ]
  },
  {
   "cell_type": "code",
   "execution_count": 4,
   "metadata": {},
   "outputs": [
    {
     "name": "stdout",
     "output_type": "stream",
     "text": [
      "x is greater than y\n",
      "x is greater than y and z\n"
     ]
    }
   ],
   "source": [
    "x, y, z = 7, 4, 2\n",
    "if x > y:\n",
    "    print(\"x is greater than y\")\n",
    "    if x > z:\n",
    "        print(\"x is greater than y and z\")"
   ]
  },
  {
   "cell_type": "markdown",
   "metadata": {},
   "source": [
    "# The else Statement\n",
    "* Use else statement to execute a block of Python code, if the condition is false.\n",
    "\n",
    "# Syntax\n",
    "![](https://gitee.com/faerl/upic/raw/master/AtsUfm.png)"
   ]
  },
  {
   "cell_type": "code",
   "execution_count": 5,
   "metadata": {},
   "outputs": [
    {
     "name": "stdout",
     "output_type": "stream",
     "text": [
      "x is greater\n"
     ]
    }
   ],
   "source": [
    "x, y = 7, 5\n",
    "if x < y:\n",
    "    print('y is greater')\n",
    "else:\n",
    "    print('x is greater')"
   ]
  },
  {
   "cell_type": "markdown",
   "metadata": {},
   "source": [
    "# The elif (else if) Statement\n",
    "* Use elif statement to specify a new condition to test, if the first condition is false.\n",
    "\n",
    "# Syntax\n",
    "![](https://gitee.com/faerl/upic/raw/master/9oLpBr.png)"
   ]
  },
  {
   "cell_type": "code",
   "execution_count": 6,
   "metadata": {},
   "outputs": [
    {
     "name": "stdout",
     "output_type": "stream",
     "text": [
      "x and y are equal\n"
     ]
    }
   ],
   "source": [
    "x, y = 5, 5\n",
    "if x > y:\n",
    "    print('x is greater')\n",
    "elif x < y:\n",
    "    print('y is greater')\n",
    "else:\n",
    "    print('x and y are equal')"
   ]
  },
  {
   "cell_type": "markdown",
   "metadata": {},
   "source": [
    "# Substitute for Switch Case\n",
    "* Python does not have a ‘switch‘ statement.\n",
    "* You can use if…elif…elif sequence as a substitute."
   ]
  },
  {
   "cell_type": "code",
   "execution_count": 8,
   "metadata": {},
   "outputs": [
    {
     "name": "stdout",
     "output_type": "stream",
     "text": [
      "default case\n"
     ]
    }
   ],
   "source": [
    "choice = 100\n",
    "if choice == 1:\n",
    "\tprint('case 1')\n",
    "elif choice == 2:\n",
    "\tprint('case 2')\n",
    "elif choice == 3:\n",
    "\tprint('case 3')\n",
    "elif choice == 4:\n",
    "\tprint('case 4')\n",
    "else:\n",
    "\tprint('default case')"
   ]
  },
  {
   "cell_type": "markdown",
   "metadata": {},
   "source": [
    "# Multiple Conditions\n",
    "* To join two or more conditions into a single if statement, use logical operators. and, or and not."
   ]
  },
  {
   "cell_type": "code",
   "execution_count": 9,
   "metadata": {},
   "outputs": [
    {
     "name": "stdout",
     "output_type": "stream",
     "text": [
      "x is greater\n"
     ]
    }
   ],
   "source": [
    "# and expression is True, if all the conditions are true.\n",
    "\n",
    "# Example: Using and operator\n",
    "\n",
    "x, y, z = 7, 4, 2\n",
    "if x > y and x > z:\n",
    "    print('x is greater')"
   ]
  },
  {
   "cell_type": "code",
   "execution_count": 10,
   "metadata": {},
   "outputs": [
    {
     "name": "stdout",
     "output_type": "stream",
     "text": [
      "x is greater than y or z\n"
     ]
    }
   ],
   "source": [
    "# or expression is True, if at least one of the conditions is True.\n",
    "\n",
    "# Example: Using or operator\n",
    "\n",
    "x, y, z = 7, 4, 9\n",
    "if x > y or x > z:\n",
    "    print('x is greater than y or z')"
   ]
  },
  {
   "cell_type": "code",
   "execution_count": 11,
   "metadata": {},
   "outputs": [
    {
     "name": "stdout",
     "output_type": "stream",
     "text": [
      "x is greater\n"
     ]
    }
   ],
   "source": [
    "# not expression is True, if the condition is false.\n",
    "\n",
    "# Example: Using not operator\n",
    "\n",
    "x, y = 7, 5\n",
    "if not x < y:\n",
    "    print('x is greater')"
   ]
  },
  {
   "cell_type": "markdown",
   "metadata": {},
   "source": [
    "# One Line if Statement"
   ]
  },
  {
   "cell_type": "code",
   "execution_count": 13,
   "metadata": {},
   "outputs": [],
   "source": [
    "# Example: Short Hand If – single statement\n",
    "\n",
    "x, y = 5, 7\n",
    "if x > y: print('x is greater')"
   ]
  },
  {
   "cell_type": "code",
   "execution_count": 14,
   "metadata": {},
   "outputs": [
    {
     "name": "stdout",
     "output_type": "stream",
     "text": [
      "x is greater\n",
      "y is smaller\n",
      "x and y are not equal\n"
     ]
    }
   ],
   "source": [
    "# Example: Short Hand If – multiple statements\n",
    "\n",
    "x, y = 7, 5\n",
    "if x > y: print('x is greater'); print('y is smaller'); print('x and y are not equal')"
   ]
  },
  {
   "cell_type": "markdown",
   "metadata": {},
   "source": [
    "# Conditional Expressions (ternary operator)\n",
    "* Conditional expression (sometimes referred to as ‘ternary operator’) allows us to select one of two statements depending on the specified condition.\n",
    "# Syntax\n",
    "![](https://gitee.com/faerl/upic/raw/master/h4pZau.png)"
   ]
  },
  {
   "cell_type": "code",
   "execution_count": 16,
   "metadata": {},
   "outputs": [
    {
     "name": "stdout",
     "output_type": "stream",
     "text": [
      "x is greater\n"
     ]
    }
   ],
   "source": [
    "x, y = 7, 5\n",
    "print('x is greater') if x > y else print('y is greater')"
   ]
  },
  {
   "cell_type": "code",
   "execution_count": 19,
   "metadata": {},
   "outputs": [
    {
     "name": "stdout",
     "output_type": "stream",
     "text": [
      "7\n"
     ]
    }
   ],
   "source": [
    "x, y = 7, 5\n",
    "max = x if x > y else y\n",
    "print(max)  # 7"
   ]
  },
  {
   "cell_type": "markdown",
   "metadata": {},
   "source": [
    "# Check If Item Present in a Sequence\n",
    "* The in operator is used to check if a value is present in a sequence (list, tuple, string etc.)."
   ]
  },
  {
   "cell_type": "code",
   "execution_count": 20,
   "metadata": {},
   "outputs": [
    {
     "name": "stdout",
     "output_type": "stream",
     "text": [
      "yes\n",
      "yes\n",
      "Yes\n"
     ]
    }
   ],
   "source": [
    "# list\n",
    "L = ['red', 'green', 'blue']\n",
    "if 'red' in L:\n",
    "    print('yes')\n",
    "\n",
    "    # tuple\n",
    "T = ('red', 'green', 'blue')\n",
    "if 'red' in T:\n",
    "    print('yes')\n",
    "\n",
    "    # string\n",
    "S = 'Hello, World!'\n",
    "if 'Hello' in S:\n",
    "    print('Yes')"
   ]
  },
  {
   "cell_type": "code",
   "execution_count": null,
   "metadata": {},
   "outputs": [],
   "source": []
  }
 ],
 "metadata": {
  "kernelspec": {
   "display_name": "Python 3",
   "language": "python",
   "name": "python3"
  },
  "language_info": {
   "codemirror_mode": {
    "name": "ipython",
    "version": 3
   },
   "file_extension": ".py",
   "mimetype": "text/x-python",
   "name": "python",
   "nbconvert_exporter": "python",
   "pygments_lexer": "ipython3",
   "version": "3.7.5"
  }
 },
 "nbformat": 4,
 "nbformat_minor": 4
}
